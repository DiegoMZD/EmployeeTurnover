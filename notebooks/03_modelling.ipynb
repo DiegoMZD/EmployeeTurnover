{
 "cells": [
  {
   "cell_type": "code",
   "execution_count": null,
   "metadata": {},
   "outputs": [],
   "source": [
    "import numpy as np\n",
    "import pandas as pd\n",
    "from sklearn.linear_model import LogisticRegression\n",
    "from sklearn.svm import SVC\n",
    "from sklearn.model_selection import train_test_split\n",
    "from sklearn.metrics import accuracy_score, classification_report, confusion_matrix\n",
    "from sklearn.preprocessing import OneHotEncoder, StandardScaler\n",
    "from sklearn.compose import ColumnTransformer\n",
    "from sklearn.pipeline import Pipeline\n",
    "from sklearn.ensemble import RandomForestClassifier, BaggingClassifier, AdaBoostClassifier\n",
    "from xgboost import XGBClassifier\n",
    "from sklearn.tree import DecisionTreeClassifier\n",
    "from sklearn.model_selection import cross_val_score, GridSearchCV, RandomizedSearchCV\n",
    "import matplotlib.pyplot as plt\n",
    "import seaborn as sns\n",
    "import joblib\n",
    "import os"
   ]
  },
  {
   "cell_type": "code",
   "execution_count": 3,
   "metadata": {},
   "outputs": [
    {
     "data": {
      "text/html": [
       "<div>\n",
       "<style scoped>\n",
       "    .dataframe tbody tr th:only-of-type {\n",
       "        vertical-align: middle;\n",
       "    }\n",
       "\n",
       "    .dataframe tbody tr th {\n",
       "        vertical-align: top;\n",
       "    }\n",
       "\n",
       "    .dataframe thead th {\n",
       "        text-align: right;\n",
       "    }\n",
       "</style>\n",
       "<table border=\"1\" class=\"dataframe\">\n",
       "  <thead>\n",
       "    <tr style=\"text-align: right;\">\n",
       "      <th></th>\n",
       "      <th>stag</th>\n",
       "      <th>event</th>\n",
       "      <th>gender</th>\n",
       "      <th>age</th>\n",
       "      <th>industry</th>\n",
       "      <th>profession</th>\n",
       "      <th>traffic</th>\n",
       "      <th>coach</th>\n",
       "      <th>head_gender</th>\n",
       "      <th>greywage</th>\n",
       "      <th>way</th>\n",
       "      <th>extraversion</th>\n",
       "      <th>independ</th>\n",
       "      <th>selfcontrol</th>\n",
       "      <th>anxiety</th>\n",
       "      <th>novator</th>\n",
       "    </tr>\n",
       "  </thead>\n",
       "  <tbody>\n",
       "    <tr>\n",
       "      <th>0</th>\n",
       "      <td>7.030801</td>\n",
       "      <td>1</td>\n",
       "      <td>m</td>\n",
       "      <td>35.0</td>\n",
       "      <td>Banks</td>\n",
       "      <td>HR</td>\n",
       "      <td>rabrecNErab</td>\n",
       "      <td>no</td>\n",
       "      <td>f</td>\n",
       "      <td>white</td>\n",
       "      <td>bus</td>\n",
       "      <td>6.2</td>\n",
       "      <td>4.1</td>\n",
       "      <td>5.7</td>\n",
       "      <td>7.1</td>\n",
       "      <td>8.3</td>\n",
       "    </tr>\n",
       "    <tr>\n",
       "      <th>1</th>\n",
       "      <td>22.965092</td>\n",
       "      <td>1</td>\n",
       "      <td>m</td>\n",
       "      <td>33.0</td>\n",
       "      <td>Banks</td>\n",
       "      <td>HR</td>\n",
       "      <td>empjs</td>\n",
       "      <td>no</td>\n",
       "      <td>m</td>\n",
       "      <td>white</td>\n",
       "      <td>bus</td>\n",
       "      <td>6.2</td>\n",
       "      <td>4.1</td>\n",
       "      <td>5.7</td>\n",
       "      <td>7.1</td>\n",
       "      <td>8.3</td>\n",
       "    </tr>\n",
       "    <tr>\n",
       "      <th>2</th>\n",
       "      <td>15.934292</td>\n",
       "      <td>1</td>\n",
       "      <td>f</td>\n",
       "      <td>35.0</td>\n",
       "      <td>PowerGeneration</td>\n",
       "      <td>HR</td>\n",
       "      <td>rabrecNErab</td>\n",
       "      <td>no</td>\n",
       "      <td>m</td>\n",
       "      <td>white</td>\n",
       "      <td>bus</td>\n",
       "      <td>6.2</td>\n",
       "      <td>6.2</td>\n",
       "      <td>2.6</td>\n",
       "      <td>4.8</td>\n",
       "      <td>8.3</td>\n",
       "    </tr>\n",
       "    <tr>\n",
       "      <th>3</th>\n",
       "      <td>15.934292</td>\n",
       "      <td>1</td>\n",
       "      <td>f</td>\n",
       "      <td>35.0</td>\n",
       "      <td>PowerGeneration</td>\n",
       "      <td>HR</td>\n",
       "      <td>rabrecNErab</td>\n",
       "      <td>no</td>\n",
       "      <td>m</td>\n",
       "      <td>white</td>\n",
       "      <td>bus</td>\n",
       "      <td>5.4</td>\n",
       "      <td>7.6</td>\n",
       "      <td>4.9</td>\n",
       "      <td>2.5</td>\n",
       "      <td>6.7</td>\n",
       "    </tr>\n",
       "    <tr>\n",
       "      <th>4</th>\n",
       "      <td>8.410678</td>\n",
       "      <td>1</td>\n",
       "      <td>m</td>\n",
       "      <td>32.0</td>\n",
       "      <td>Retail</td>\n",
       "      <td>Commercial</td>\n",
       "      <td>youjs</td>\n",
       "      <td>yes</td>\n",
       "      <td>f</td>\n",
       "      <td>white</td>\n",
       "      <td>bus</td>\n",
       "      <td>3.0</td>\n",
       "      <td>4.1</td>\n",
       "      <td>8.0</td>\n",
       "      <td>7.1</td>\n",
       "      <td>3.7</td>\n",
       "    </tr>\n",
       "  </tbody>\n",
       "</table>\n",
       "</div>"
      ],
      "text/plain": [
       "        stag  event gender   age         industry  profession      traffic  \\\n",
       "0   7.030801      1      m  35.0            Banks          HR  rabrecNErab   \n",
       "1  22.965092      1      m  33.0            Banks          HR        empjs   \n",
       "2  15.934292      1      f  35.0  PowerGeneration          HR  rabrecNErab   \n",
       "3  15.934292      1      f  35.0  PowerGeneration          HR  rabrecNErab   \n",
       "4   8.410678      1      m  32.0           Retail  Commercial        youjs   \n",
       "\n",
       "  coach head_gender greywage  way  extraversion  independ  selfcontrol  \\\n",
       "0    no           f    white  bus           6.2       4.1          5.7   \n",
       "1    no           m    white  bus           6.2       4.1          5.7   \n",
       "2    no           m    white  bus           6.2       6.2          2.6   \n",
       "3    no           m    white  bus           5.4       7.6          4.9   \n",
       "4   yes           f    white  bus           3.0       4.1          8.0   \n",
       "\n",
       "   anxiety  novator  \n",
       "0      7.1      8.3  \n",
       "1      7.1      8.3  \n",
       "2      4.8      8.3  \n",
       "3      2.5      6.7  \n",
       "4      7.1      3.7  "
      ]
     },
     "execution_count": 3,
     "metadata": {},
     "output_type": "execute_result"
    }
   ],
   "source": [
    "data = pd.read_csv(\"../data/raw/turnover.csv\")\n",
    "data.head()"
   ]
  },
  {
   "cell_type": "code",
   "execution_count": 4,
   "metadata": {},
   "outputs": [],
   "source": [
    "X = data.drop(columns = [\"event\"])\n",
    "y = data[\"event\"]"
   ]
  },
  {
   "cell_type": "code",
   "execution_count": 5,
   "metadata": {},
   "outputs": [],
   "source": [
    "X_train, X_test, y_train, y_test = train_test_split(X, y, test_size=0.33, random_state=42, stratify = y)"
   ]
  },
  {
   "cell_type": "code",
   "execution_count": 6,
   "metadata": {},
   "outputs": [],
   "source": [
    "cat_cols = X_train.select_dtypes(include = [\"object\"]).columns"
   ]
  },
  {
   "cell_type": "code",
   "execution_count": 7,
   "metadata": {},
   "outputs": [],
   "source": [
    "num_cols = X_train.select_dtypes(include = [\"int\", \"float\"]).columns"
   ]
  },
  {
   "cell_type": "code",
   "execution_count": 8,
   "metadata": {},
   "outputs": [],
   "source": [
    "cat_transformer = OneHotEncoder(handle_unknown='ignore')"
   ]
  },
  {
   "cell_type": "code",
   "execution_count": 9,
   "metadata": {},
   "outputs": [],
   "source": [
    "num_transformer = StandardScaler()"
   ]
  },
  {
   "cell_type": "markdown",
   "metadata": {},
   "source": [
    "### Different preprocesser combinations"
   ]
  },
  {
   "cell_type": "markdown",
   "metadata": {},
   "source": [
    "One Hot Encoding is a MUST"
   ]
  },
  {
   "cell_type": "code",
   "execution_count": 10,
   "metadata": {},
   "outputs": [],
   "source": [
    "preprocessor1 = ColumnTransformer(\n",
    "    transformers = [\n",
    "        ('cat', cat_transformer, cat_cols)\n",
    "    ]\n",
    ")"
   ]
  },
  {
   "cell_type": "markdown",
   "metadata": {},
   "source": [
    "One Hot Encoding + Scaling"
   ]
  },
  {
   "cell_type": "code",
   "execution_count": 11,
   "metadata": {},
   "outputs": [],
   "source": [
    "preprocessor2 = ColumnTransformer(\n",
    "    transformers = [\n",
    "        ('cat', cat_transformer, cat_cols),\n",
    "        ('num', num_transformer, num_cols)\n",
    "    ]\n",
    ")"
   ]
  },
  {
   "cell_type": "markdown",
   "metadata": {},
   "source": [
    "## Model Experiments"
   ]
  },
  {
   "cell_type": "markdown",
   "metadata": {},
   "source": [
    "### Preprocessor 1 + Baseline Logistic Regression"
   ]
  },
  {
   "cell_type": "code",
   "execution_count": 12,
   "metadata": {},
   "outputs": [],
   "source": [
    "pipeline_log_reg1 = Pipeline(steps=[\n",
    "    ('preprocessor', preprocessor1),\n",
    "    ('classifier', LogisticRegression())\n",
    "])"
   ]
  },
  {
   "cell_type": "code",
   "execution_count": 13,
   "metadata": {},
   "outputs": [
    {
     "name": "stdout",
     "output_type": "stream",
     "text": [
      "0.613941018766756\n",
      "{'0': {'precision': 0.6111111111111112, 'recall': 0.5978260869565217, 'f1-score': 0.6043956043956044, 'support': 184.0}, '1': {'precision': 0.616580310880829, 'recall': 0.6296296296296297, 'f1-score': 0.6230366492146597, 'support': 189.0}, 'accuracy': 0.613941018766756, 'macro avg': {'precision': 0.6138457109959701, 'recall': 0.6137278582930756, 'f1-score': 0.6137161268051321, 'support': 373.0}, 'weighted avg': {'precision': 0.6138823678308877, 'recall': 0.613941018766756, 'f1-score': 0.6138410667838121, 'support': 373.0}}\n"
     ]
    }
   ],
   "source": [
    "pipeline_log_reg1.fit(X_train, y_train)\n",
    "y_pred = pipeline_log_reg1.predict(X_test)\n",
    "score = accuracy_score(y_test, y_pred)\n",
    "report_log_reg1 = classification_report(y_test, y_pred, output_dict = True)\n",
    "print(score)\n",
    "print(report_log_reg1)"
   ]
  },
  {
   "cell_type": "markdown",
   "metadata": {},
   "source": [
    "### Preprocessor 2 + Baseline Logistic Regression"
   ]
  },
  {
   "cell_type": "code",
   "execution_count": 14,
   "metadata": {},
   "outputs": [],
   "source": [
    "pipeline_log_reg2 = Pipeline(steps=[\n",
    "    ('preprocessor', preprocessor2),\n",
    "    ('classifier', LogisticRegression())\n",
    "])"
   ]
  },
  {
   "cell_type": "code",
   "execution_count": 15,
   "metadata": {},
   "outputs": [
    {
     "name": "stdout",
     "output_type": "stream",
     "text": [
      "0.6005361930294906\n",
      "{'0': {'precision': 0.5956284153005464, 'recall': 0.592391304347826, 'f1-score': 0.5940054495912807, 'support': 184.0}, '1': {'precision': 0.6052631578947368, 'recall': 0.6084656084656085, 'f1-score': 0.6068601583113457, 'support': 189.0}, 'accuracy': 0.6005361930294906, 'macro avg': {'precision': 0.6004457865976416, 'recall': 0.6004284564067173, 'f1-score': 0.6004328039513132, 'support': 373.0}, 'weighted avg': {'precision': 0.6005103626203909, 'recall': 0.6005361930294906, 'f1-score': 0.600518961516461, 'support': 373.0}}\n"
     ]
    }
   ],
   "source": [
    "pipeline_log_reg2.fit(X_train, y_train)\n",
    "y_pred = pipeline_log_reg2.predict(X_test)\n",
    "score = accuracy_score(y_test, y_pred)\n",
    "report_log_reg2 = classification_report(y_test, y_pred, output_dict = True)\n",
    "print(score)\n",
    "print(report_log_reg2)"
   ]
  },
  {
   "cell_type": "markdown",
   "metadata": {},
   "source": [
    "### Preprocessor 1 + Baseline SVC"
   ]
  },
  {
   "cell_type": "code",
   "execution_count": 16,
   "metadata": {},
   "outputs": [],
   "source": [
    "pipeline_svc1 = Pipeline(steps=[\n",
    "    ('preprocessor', preprocessor1),\n",
    "    ('classifier', SVC())\n",
    "])"
   ]
  },
  {
   "cell_type": "code",
   "execution_count": 17,
   "metadata": {},
   "outputs": [
    {
     "name": "stdout",
     "output_type": "stream",
     "text": [
      "0.6300268096514745\n",
      "{'0': {'precision': 0.6385542168674698, 'recall': 0.5760869565217391, 'f1-score': 0.6057142857142858, 'support': 184.0}, '1': {'precision': 0.6231884057971014, 'recall': 0.6825396825396826, 'f1-score': 0.6515151515151515, 'support': 189.0}, 'accuracy': 0.6300268096514745, 'macro avg': {'precision': 0.6308713113322857, 'recall': 0.6293133195307108, 'f1-score': 0.6286147186147186, 'support': 373.0}, 'weighted avg': {'precision': 0.6307683233224307, 'recall': 0.6300268096514745, 'f1-score': 0.6289216949270569, 'support': 373.0}}\n"
     ]
    }
   ],
   "source": [
    "pipeline_svc1.fit(X_train, y_train)\n",
    "y_pred = pipeline_svc1.predict(X_test)\n",
    "score = accuracy_score(y_test, y_pred)\n",
    "report_svc1 = classification_report(y_test, y_pred, output_dict = True)\n",
    "print(score)\n",
    "print(report_svc1)"
   ]
  },
  {
   "cell_type": "markdown",
   "metadata": {},
   "source": [
    "### Preprocessor 2 + Baseline SVC"
   ]
  },
  {
   "cell_type": "code",
   "execution_count": 18,
   "metadata": {},
   "outputs": [],
   "source": [
    "pipeline_svc2 = Pipeline(steps=[\n",
    "    ('preprocessor', preprocessor2),\n",
    "    ('classifier', SVC())\n",
    "])"
   ]
  },
  {
   "cell_type": "code",
   "execution_count": 19,
   "metadata": {},
   "outputs": [
    {
     "name": "stdout",
     "output_type": "stream",
     "text": [
      "0.6514745308310992\n",
      "{'0': {'precision': 0.6451612903225806, 'recall': 0.6521739130434783, 'f1-score': 0.6486486486486487, 'support': 184.0}, '1': {'precision': 0.6577540106951871, 'recall': 0.6507936507936508, 'f1-score': 0.6542553191489362, 'support': 189.0}, 'accuracy': 0.6514745308310992, 'macro avg': {'precision': 0.6514576505088838, 'recall': 0.6514837819185646, 'f1-score': 0.6514519838987924, 'support': 373.0}, 'weighted avg': {'precision': 0.6515420521199603, 'recall': 0.6514745308310992, 'f1-score': 0.6514895621193038, 'support': 373.0}}\n"
     ]
    }
   ],
   "source": [
    "pipeline_svc2.fit(X_train, y_train)\n",
    "y_pred = pipeline_svc2.predict(X_test)\n",
    "score = accuracy_score(y_test, y_pred)\n",
    "report_svc2 = classification_report(y_test, y_pred, output_dict = True)\n",
    "print(score)\n",
    "print(report_svc2)"
   ]
  },
  {
   "cell_type": "markdown",
   "metadata": {},
   "source": [
    "### Preprocessor 1 + Baseline XGB Classifier"
   ]
  },
  {
   "cell_type": "code",
   "execution_count": 20,
   "metadata": {},
   "outputs": [],
   "source": [
    "pipeline_xgb1 = Pipeline(steps=[\n",
    "    ('preprocessor', preprocessor1),\n",
    "    ('classifier', XGBClassifier())\n",
    "])"
   ]
  },
  {
   "cell_type": "code",
   "execution_count": 21,
   "metadata": {},
   "outputs": [
    {
     "name": "stdout",
     "output_type": "stream",
     "text": [
      "0.6005361930294906\n",
      "{'0': {'precision': 0.5956284153005464, 'recall': 0.592391304347826, 'f1-score': 0.5940054495912807, 'support': 184.0}, '1': {'precision': 0.6052631578947368, 'recall': 0.6084656084656085, 'f1-score': 0.6068601583113457, 'support': 189.0}, 'accuracy': 0.6005361930294906, 'macro avg': {'precision': 0.6004457865976416, 'recall': 0.6004284564067173, 'f1-score': 0.6004328039513132, 'support': 373.0}, 'weighted avg': {'precision': 0.6005103626203909, 'recall': 0.6005361930294906, 'f1-score': 0.600518961516461, 'support': 373.0}}\n"
     ]
    }
   ],
   "source": [
    "pipeline_xgb1.fit(X_train, y_train)\n",
    "y_pred = pipeline_xgb1.predict(X_test)\n",
    "score = accuracy_score(y_test, y_pred)\n",
    "report_xgb1 = classification_report(y_test, y_pred, output_dict = True)\n",
    "print(score)\n",
    "print(report_xgb1)"
   ]
  },
  {
   "cell_type": "markdown",
   "metadata": {},
   "source": [
    "### Preprocessor 2 + Baseline XGB Classifier"
   ]
  },
  {
   "cell_type": "code",
   "execution_count": 22,
   "metadata": {},
   "outputs": [],
   "source": [
    "pipeline_xgb2 = Pipeline(steps=[\n",
    "    ('preprocessor', preprocessor2),\n",
    "    ('classifier', XGBClassifier())\n",
    "])"
   ]
  },
  {
   "cell_type": "code",
   "execution_count": 23,
   "metadata": {},
   "outputs": [
    {
     "name": "stdout",
     "output_type": "stream",
     "text": [
      "0.6675603217158177\n",
      "{'0': {'precision': 0.65625, 'recall': 0.6847826086956522, 'f1-score': 0.6702127659574468, 'support': 184.0}, '1': {'precision': 0.6795580110497238, 'recall': 0.6507936507936508, 'f1-score': 0.6648648648648648, 'support': 189.0}, 'accuracy': 0.6675603217158177, 'macro avg': {'precision': 0.667904005524862, 'recall': 0.6677881297446515, 'f1-score': 0.6675388154111559, 'support': 373.0}, 'weighted avg': {'precision': 0.6680602254380638, 'recall': 0.6675603217158177, 'f1-score': 0.6675029715700528, 'support': 373.0}}\n"
     ]
    }
   ],
   "source": [
    "pipeline_xgb2.fit(X_train, y_train)\n",
    "y_pred = pipeline_xgb2.predict(X_test)\n",
    "score = accuracy_score(y_test, y_pred)\n",
    "report_xgb2 = classification_report(y_test, y_pred, output_dict = True)\n",
    "print(score)\n",
    "print(report_xgb2)"
   ]
  },
  {
   "cell_type": "markdown",
   "metadata": {},
   "source": [
    "### Preprocessor 1 + Baseline Random Forest Classifier"
   ]
  },
  {
   "cell_type": "code",
   "execution_count": 24,
   "metadata": {},
   "outputs": [],
   "source": [
    "pipeline_rfc1 = Pipeline(steps=[\n",
    "    ('preprocessor', preprocessor1),\n",
    "    ('classifier', RandomForestClassifier(random_state = 19))\n",
    "])"
   ]
  },
  {
   "cell_type": "code",
   "execution_count": 25,
   "metadata": {},
   "outputs": [
    {
     "name": "stdout",
     "output_type": "stream",
     "text": [
      "0.6407506702412868\n",
      "{'0': {'precision': 0.6404494382022472, 'recall': 0.6195652173913043, 'f1-score': 0.6298342541436464, 'support': 184.0}, '1': {'precision': 0.6410256410256411, 'recall': 0.6613756613756614, 'f1-score': 0.6510416666666666, 'support': 189.0}, 'accuracy': 0.6407506702412868, 'macro avg': {'precision': 0.6407375396139441, 'recall': 0.6404704393834828, 'f1-score': 0.6404379604051564, 'support': 373.0}, 'weighted avg': {'precision': 0.6407414015631626, 'recall': 0.6407506702412868, 'f1-score': 0.6405801012397612, 'support': 373.0}}\n"
     ]
    }
   ],
   "source": [
    "pipeline_rfc1.fit(X_train, y_train)\n",
    "y_pred = pipeline_rfc1.predict(X_test)\n",
    "score = accuracy_score(y_test, y_pred)\n",
    "report_rfc1 = classification_report(y_test, y_pred, output_dict = True)\n",
    "print(score)\n",
    "print(report_rfc1)"
   ]
  },
  {
   "cell_type": "markdown",
   "metadata": {},
   "source": [
    "### Preprocessor 2 + Baseline Random Forest Classifier"
   ]
  },
  {
   "cell_type": "code",
   "execution_count": 26,
   "metadata": {},
   "outputs": [],
   "source": [
    "pipeline_rfc2 = Pipeline(steps=[\n",
    "    ('preprocessor', preprocessor2),\n",
    "    ('classifier', RandomForestClassifier(random_state = 19))\n",
    "])"
   ]
  },
  {
   "cell_type": "code",
   "execution_count": 27,
   "metadata": {},
   "outputs": [
    {
     "name": "stdout",
     "output_type": "stream",
     "text": [
      "0.6916890080428955\n",
      "{'0': {'precision': 0.6844919786096256, 'recall': 0.6956521739130435, 'f1-score': 0.6900269541778976, 'support': 184.0}, '1': {'precision': 0.6989247311827957, 'recall': 0.6878306878306878, 'f1-score': 0.6933333333333334, 'support': 189.0}, 'accuracy': 0.6916890080428955, 'macro avg': {'precision': 0.6917083548962106, 'recall': 0.6917414308718657, 'f1-score': 0.6916801437556155, 'support': 373.0}, 'weighted avg': {'precision': 0.6918050891627868, 'recall': 0.6916890080428955, 'f1-score': 0.6917023044738154, 'support': 373.0}}\n"
     ]
    }
   ],
   "source": [
    "pipeline_rfc2.fit(X_train, y_train)\n",
    "y_pred = pipeline_rfc2.predict(X_test)\n",
    "score = accuracy_score(y_test, y_pred)\n",
    "report_rfc2 = classification_report(y_test, y_pred, output_dict = True)\n",
    "print(score)\n",
    "print(report_rfc2)"
   ]
  },
  {
   "cell_type": "markdown",
   "metadata": {},
   "source": [
    "### Preprocessor 1 + Bagging Classifier (RFC)"
   ]
  },
  {
   "cell_type": "code",
   "execution_count": 28,
   "metadata": {},
   "outputs": [],
   "source": [
    "pipeline_bagging1 = Pipeline(steps=[\n",
    "    ('preprocessor', preprocessor1),\n",
    "    ('classifier', BaggingClassifier(RandomForestClassifier(random_state = 19)))\n",
    "])"
   ]
  },
  {
   "cell_type": "code",
   "execution_count": 29,
   "metadata": {},
   "outputs": [
    {
     "name": "stdout",
     "output_type": "stream",
     "text": [
      "0.6621983914209115\n",
      "{'0': {'precision': 0.6593406593406593, 'recall': 0.6521739130434783, 'f1-score': 0.6557377049180327, 'support': 184.0}, '1': {'precision': 0.6649214659685864, 'recall': 0.671957671957672, 'f1-score': 0.6684210526315789, 'support': 189.0}, 'accuracy': 0.6621983914209115, 'macro avg': {'precision': 0.6621310626546228, 'recall': 0.6620657925005751, 'f1-score': 0.6620793787748058, 'support': 373.0}, 'weighted avg': {'precision': 0.6621684675247832, 'recall': 0.6621983914209115, 'f1-score': 0.6621643878077385, 'support': 373.0}}\n"
     ]
    }
   ],
   "source": [
    "pipeline_bagging1.fit(X_train, y_train)\n",
    "y_pred = pipeline_bagging1.predict(X_test)\n",
    "score = accuracy_score(y_test, y_pred)\n",
    "report_bagging1 = classification_report(y_test, y_pred, output_dict = True)\n",
    "print(score)\n",
    "print(report_bagging1)"
   ]
  },
  {
   "cell_type": "markdown",
   "metadata": {},
   "source": [
    "### Preprocessor 2 + Bagging Classifier (RFC)"
   ]
  },
  {
   "cell_type": "code",
   "execution_count": 30,
   "metadata": {},
   "outputs": [],
   "source": [
    "pipeline_bagging2 = Pipeline(steps=[\n",
    "    ('preprocessor', preprocessor2),\n",
    "    ('classifier', BaggingClassifier(RandomForestClassifier(random_state = 19)))\n",
    "])"
   ]
  },
  {
   "cell_type": "code",
   "execution_count": 31,
   "metadata": {},
   "outputs": [
    {
     "name": "stdout",
     "output_type": "stream",
     "text": [
      "0.67828418230563\n",
      "{'0': {'precision': 0.6758241758241759, 'recall': 0.6684782608695652, 'f1-score': 0.6721311475409836, 'support': 184.0}, '1': {'precision': 0.680628272251309, 'recall': 0.6878306878306878, 'f1-score': 0.6842105263157895, 'support': 189.0}, 'accuracy': 0.67828418230563, 'macro avg': {'precision': 0.6782262240377424, 'recall': 0.6781544743501264, 'f1-score': 0.6781708369283865, 'support': 373.0}, 'weighted avg': {'precision': 0.6782584230754579, 'recall': 0.67828418230563, 'f1-score': 0.678251797912132, 'support': 373.0}}\n"
     ]
    }
   ],
   "source": [
    "pipeline_bagging2.fit(X_train, y_train)\n",
    "y_pred = pipeline_bagging2.predict(X_test)\n",
    "score = accuracy_score(y_test, y_pred)\n",
    "report_bagging2 = classification_report(y_test, y_pred, output_dict = True)\n",
    "print(score)\n",
    "print(report_bagging2)"
   ]
  },
  {
   "cell_type": "markdown",
   "metadata": {},
   "source": [
    "### Preprocessor 1 + AdaBoost Classifier (RFC)"
   ]
  },
  {
   "cell_type": "code",
   "execution_count": 32,
   "metadata": {},
   "outputs": [],
   "source": [
    "pipeline_adaboost1 = Pipeline(steps=[\n",
    "    ('preprocessor', preprocessor1),\n",
    "    ('classifier', AdaBoostClassifier(RandomForestClassifier(random_state = 19)))\n",
    "])"
   ]
  },
  {
   "cell_type": "code",
   "execution_count": 33,
   "metadata": {},
   "outputs": [
    {
     "name": "stdout",
     "output_type": "stream",
     "text": [
      "0.646112600536193\n",
      "{'0': {'precision': 0.6413043478260869, 'recall': 0.6413043478260869, 'f1-score': 0.6413043478260869, 'support': 184.0}, '1': {'precision': 0.6507936507936508, 'recall': 0.6507936507936508, 'f1-score': 0.6507936507936508, 'support': 189.0}, 'accuracy': 0.646112600536193, 'macro avg': {'precision': 0.6460489993098688, 'recall': 0.6460489993098688, 'f1-score': 0.6460489993098688, 'support': 373.0}, 'weighted avg': {'precision': 0.646112600536193, 'recall': 0.646112600536193, 'f1-score': 0.646112600536193, 'support': 373.0}}\n"
     ]
    }
   ],
   "source": [
    "pipeline_adaboost1.fit(X_train, y_train)\n",
    "y_pred = pipeline_adaboost1.predict(X_test)\n",
    "score = accuracy_score(y_test, y_pred)\n",
    "report_adaboost1 = classification_report(y_test, y_pred, output_dict = True)\n",
    "print(score)\n",
    "print(report_adaboost1)"
   ]
  },
  {
   "cell_type": "markdown",
   "metadata": {},
   "source": [
    "### Preprocessor 2 + AdaBoost Classifier (RFC)"
   ]
  },
  {
   "cell_type": "code",
   "execution_count": 34,
   "metadata": {},
   "outputs": [],
   "source": [
    "pipeline_adaboost2 = Pipeline(steps=[\n",
    "    ('preprocessor', preprocessor2),\n",
    "    ('classifier', AdaBoostClassifier(RandomForestClassifier(random_state = 19)))\n",
    "])"
   ]
  },
  {
   "cell_type": "code",
   "execution_count": 35,
   "metadata": {},
   "outputs": [
    {
     "name": "stdout",
     "output_type": "stream",
     "text": [
      "0.6890080428954424\n",
      "{'0': {'precision': 0.6847826086956522, 'recall': 0.6847826086956522, 'f1-score': 0.6847826086956522, 'support': 184.0}, '1': {'precision': 0.6931216931216931, 'recall': 0.6931216931216931, 'f1-score': 0.6931216931216931, 'support': 189.0}, 'accuracy': 0.6890080428954424, 'macro avg': {'precision': 0.6889521509086727, 'recall': 0.6889521509086727, 'f1-score': 0.6889521509086727, 'support': 373.0}, 'weighted avg': {'precision': 0.6890080428954424, 'recall': 0.6890080428954424, 'f1-score': 0.6890080428954424, 'support': 373.0}}\n"
     ]
    }
   ],
   "source": [
    "pipeline_adaboost2.fit(X_train, y_train)\n",
    "y_pred = pipeline_adaboost2.predict(X_test)\n",
    "score = accuracy_score(y_test, y_pred)\n",
    "report_adaboost2 = classification_report(y_test, y_pred, output_dict = True)\n",
    "print(score)\n",
    "print(report_adaboost2)"
   ]
  },
  {
   "cell_type": "markdown",
   "metadata": {},
   "source": [
    "## Results of this first round of experiments"
   ]
  },
  {
   "cell_type": "markdown",
   "metadata": {},
   "source": [
    "For this particular business problem we want to build a model that minimizes False Negatives"
   ]
  },
  {
   "cell_type": "markdown",
   "metadata": {},
   "source": [
    "False Negative (FN) = The model predicts the employee will stay, but they actually leave.  \n",
    "False Positives (FP) = The model predicts the employee will leave, but they actually stay.  "
   ]
  },
  {
   "cell_type": "markdown",
   "metadata": {},
   "source": [
    "Why is FN worse than FP?  \n",
    "If you fail to predict an employee leaving (FN case), the company misses the opportunity to take proactive measures (e.g., retention strategies)."
   ]
  },
  {
   "cell_type": "markdown",
   "metadata": {},
   "source": [
    "So our focus will be on the following model metrics:  \n",
    "1. Recall of the Positive Class\n",
    "* Measures how well the model captures actual leavers.\n",
    "* Formula: TP / (TP + FN)\n",
    "* Higher Recall = Fewer False Negatives ✅\n",
    "2. F1 - Score (macro avg)\n",
    "* Balances precision and recall.  \n",
    "* Useful if both FN and FP have costs, but FN is worse.\n",
    "3. Accuracy\n",
    "* As a general metric of the model."
   ]
  },
  {
   "cell_type": "markdown",
   "metadata": {},
   "source": [
    "Since there is no class imbalance in this dataset, ROC-AUC will not be used as a metric."
   ]
  },
  {
   "cell_type": "code",
   "execution_count": 36,
   "metadata": {},
   "outputs": [],
   "source": [
    "experiment_reports = [report_log_reg1, report_log_reg2, report_svc1, report_svc2, report_xgb1, report_xgb2, \n",
    "                      report_rfc1, report_rfc2, report_bagging1, report_bagging2, report_adaboost1, report_adaboost2]\n",
    "experiment_name = [\"P1 + LogReg\", \"P2 + LogReg\", \"P1 + SVC\", \"P2 + SVC\", \"P1 + XGB\", \"P2 + XGB\", \"P1 + RFC\", \"P2 + RFC\", \n",
    "                   \"P1 + Bagg\", \"P2 + Bagg\", \"P1 + AdaB\", \"P2 + AdaB\"]"
   ]
  },
  {
   "cell_type": "code",
   "execution_count": 37,
   "metadata": {},
   "outputs": [],
   "source": [
    "results_dict = {}"
   ]
  },
  {
   "cell_type": "code",
   "execution_count": 38,
   "metadata": {},
   "outputs": [
    {
     "name": "stdout",
     "output_type": "stream",
     "text": [
      "{'P1 + LogReg': {'recall': 0.6296296296296297, 'f1_score': 0.6137161268051321, 'accuracy': 0.613941018766756}, 'P2 + LogReg': {'recall': 0.6084656084656085, 'f1_score': 0.6004328039513132, 'accuracy': 0.6005361930294906}, 'P1 + SVC': {'recall': 0.6825396825396826, 'f1_score': 0.6286147186147186, 'accuracy': 0.6300268096514745}, 'P2 + SVC': {'recall': 0.6507936507936508, 'f1_score': 0.6514519838987924, 'accuracy': 0.6514745308310992}, 'P1 + XGB': {'recall': 0.6084656084656085, 'f1_score': 0.6004328039513132, 'accuracy': 0.6005361930294906}, 'P2 + XGB': {'recall': 0.6507936507936508, 'f1_score': 0.6675388154111559, 'accuracy': 0.6675603217158177}, 'P1 + RFC': {'recall': 0.6613756613756614, 'f1_score': 0.6404379604051564, 'accuracy': 0.6407506702412868}, 'P2 + RFC': {'recall': 0.6878306878306878, 'f1_score': 0.6916801437556155, 'accuracy': 0.6916890080428955}, 'P1 + Bagg': {'recall': 0.671957671957672, 'f1_score': 0.6620793787748058, 'accuracy': 0.6621983914209115}, 'P2 + Bagg': {'recall': 0.6878306878306878, 'f1_score': 0.6781708369283865, 'accuracy': 0.67828418230563}, 'P1 + AdaB': {'recall': 0.6507936507936508, 'f1_score': 0.6460489993098688, 'accuracy': 0.646112600536193}, 'P2 + AdaB': {'recall': 0.6931216931216931, 'f1_score': 0.6889521509086727, 'accuracy': 0.6890080428954424}}\n"
     ]
    }
   ],
   "source": [
    "for index, report in enumerate(experiment_reports):\n",
    "    results_dict[experiment_name[index]] = {\n",
    "        \"recall\": report[\"1\"][\"recall\"],\n",
    "        \"f1_score\": report[\"macro avg\"][\"f1-score\"],\n",
    "        \"accuracy\": report[\"accuracy\"]\n",
    "    }\n",
    "print(results_dict)"
   ]
  },
  {
   "cell_type": "code",
   "execution_count": 39,
   "metadata": {},
   "outputs": [
    {
     "data": {
      "image/png": "[encoded data removed]",
      "text/plain": [
       "<Figure size 800x600 with 2 Axes>"
      ]
     },
     "metadata": {},
     "output_type": "display_data"
    }
   ],
   "source": [
    "df = pd.DataFrame(results_dict).T\n",
    "\n",
    "plt.figure(figsize=(8, 6))\n",
    "sns.heatmap(df, annot=True, cmap=\"coolwarm\", fmt=\".2f\", linewidths=0.5)\n",
    "\n",
    "plt.title(\"Model Performance Heatmap\")\n",
    "\n",
    "plt.show()"
   ]
  },
  {
   "cell_type": "markdown",
   "metadata": {},
   "source": [
    "### Test \"P2 + Bagg\" using Tree as Estimator to reduce redundancy"
   ]
  },
  {
   "cell_type": "code",
   "execution_count": 40,
   "metadata": {},
   "outputs": [],
   "source": [
    "pipeline_bagging2_tree = Pipeline(steps=[\n",
    "    ('preprocessor', preprocessor2),\n",
    "    ('classifier', BaggingClassifier(DecisionTreeClassifier(random_state = 19)))\n",
    "])"
   ]
  },
  {
   "cell_type": "code",
   "execution_count": 41,
   "metadata": {},
   "outputs": [
    {
     "name": "stdout",
     "output_type": "stream",
     "text": [
      "0.6193029490616622\n",
      "{'0': {'precision': 0.5905172413793104, 'recall': 0.7445652173913043, 'f1-score': 0.6586538461538461, 'support': 184.0}, '1': {'precision': 0.6666666666666666, 'recall': 0.4973544973544973, 'f1-score': 0.5696969696969697, 'support': 189.0}, 'accuracy': 0.6193029490616622, 'macro avg': {'precision': 0.6285919540229885, 'recall': 0.6209598573729008, 'f1-score': 0.6141754079254079, 'support': 373.0}, 'weighted avg': {'precision': 0.6291023389109734, 'recall': 0.6193029490616622, 'f1-score': 0.61357918221189, 'support': 373.0}}\n"
     ]
    }
   ],
   "source": [
    "pipeline_bagging2_tree.fit(X_train, y_train)\n",
    "y_pred = pipeline_bagging2_tree.predict(X_test)\n",
    "score = accuracy_score(y_test, y_pred)\n",
    "report_bagging2_tree = classification_report(y_test, y_pred, output_dict = True)\n",
    "print(score)\n",
    "print(report_bagging2_tree)"
   ]
  },
  {
   "cell_type": "markdown",
   "metadata": {},
   "source": [
    "### Perform Cross Validation to evaluate overfitting for \"P2 + Bagg\" model"
   ]
  },
  {
   "cell_type": "code",
   "execution_count": 42,
   "metadata": {},
   "outputs": [
    {
     "name": "stdout",
     "output_type": "stream",
     "text": [
      "Cross-Validation Recall Scores: [0.64935065 0.64473684 0.68421053 0.73684211 0.74025974]\n",
      "Mean Recall: 0.6911 ± 0.0411\n"
     ]
    }
   ],
   "source": [
    "cv_scores = cross_val_score(pipeline_bagging2, X_train, y_train, cv=5, scoring='recall')\n",
    "\n",
    "print(f'Cross-Validation Recall Scores: {cv_scores}')\n",
    "print(f'Mean Recall: {cv_scores.mean():.4f} ± {cv_scores.std():.4f}')"
   ]
  },
  {
   "cell_type": "markdown",
   "metadata": {},
   "source": [
    "### Hyperparameter Tuning for \"P2 + Bagg\" model"
   ]
  },
  {
   "cell_type": "code",
   "execution_count": 43,
   "metadata": {},
   "outputs": [],
   "source": [
    "rfc = RandomForestClassifier(random_state = 19, n_jobs = -1)\n",
    "\n",
    "bagging = BaggingClassifier(estimator = rfc, random_state = 19, n_jobs = -1)\n",
    "\n",
    "pipeline = Pipeline([\n",
    "    (\"preprocessor\", preprocessor2),\n",
    "    (\"model\", bagging)\n",
    "])\n",
    "\n",
    "param_grid = {\n",
    "    \"model__n_estimators\": [10, 50, 100],  # Bagging n_estimators\n",
    "    \"model__max_samples\": [0.7, 1.0],      # Percentage of samples used\n",
    "    \"model__max_features\": [0.7, 1.0],     # Percentage of features used\n",
    "    \"model__estimator__n_estimators\": [50, 100],  # RFC trees\n",
    "    \"model__estimator__max_depth\": [5, 10, None],  # Max tree depth\n",
    "    \"model__estimator__min_samples_split\": [2, 5], # Min samples to split\n",
    "}"
   ]
  },
  {
   "cell_type": "code",
   "execution_count": 44,
   "metadata": {},
   "outputs": [
    {
     "name": "stdout",
     "output_type": "stream",
     "text": [
      "Fitting 5 folds for each of 10 candidates, totalling 50 fits\n"
     ]
    },
    {
     "data": {
      "text/html": [
       "<style>#sk-container-id-1 {\n",
       "  /* Definition of color scheme common for light and dark mode */\n",
       "  --sklearn-color-text: #000;\n",
       "  --sklearn-color-text-muted: #666;\n",
       "  --sklearn-color-line: gray;\n",
       "  /* Definition of color scheme for unfitted estimators */\n",
       "  --sklearn-color-unfitted-level-0: #fff5e6;\n",
       "  --sklearn-color-unfitted-level-1: #f6e4d2;\n",
       "  --sklearn-color-unfitted-level-2: #ffe0b3;\n",
       "  --sklearn-color-unfitted-level-3: chocolate;\n",
       "  /* Definition of color scheme for fitted estimators */\n",
       "  --sklearn-color-fitted-level-0: #f0f8ff;\n",
       "  --sklearn-color-fitted-level-1: #d4ebff;\n",
       "  --sklearn-color-fitted-level-2: #b3dbfd;\n",
       "  --sklearn-color-fitted-level-3: cornflowerblue;\n",
       "\n",
       "  /* Specific color for light theme */\n",
       "  --sklearn-color-text-on-default-background: var(--sg-text-color, var(--theme-code-foreground, var(--jp-content-font-color1, black)));\n",
       "  --sklearn-color-background: var(--sg-background-color, var(--theme-background, var(--jp-layout-color0, white)));\n",
       "  --sklearn-color-border-box: var(--sg-text-color, var(--theme-code-foreground, var(--jp-content-font-color1, black)));\n",
       "  --sklearn-color-icon: #696969;\n",
       "\n",
       "  @media (prefers-color-scheme: dark) {\n",
       "    /* Redefinition of color scheme for dark theme */\n",
       "    --sklearn-color-text-on-default-background: var(--sg-text-color, var(--theme-code-foreground, var(--jp-content-font-color1, white)));\n",
       "    --sklearn-color-background: var(--sg-background-color, var(--theme-background, var(--jp-layout-color0, #111)));\n",
       "    --sklearn-color-border-box: var(--sg-text-color, var(--theme-code-foreground, var(--jp-content-font-color1, white)));\n",
       "    --sklearn-color-icon: #878787;\n",
       "  }\n",
       "}\n",
       "\n",
       "#sk-container-id-1 {\n",
       "  color: var(--sklearn-color-text);\n",
       "}\n",
       "\n",
       "#sk-container-id-1 pre {\n",
       "  padding: 0;\n",
       "}\n",
       "\n",
       "#sk-container-id-1 input.sk-hidden--visually {\n",
       "  border: 0;\n",
       "  clip: rect(1px 1px 1px 1px);\n",
       "  clip: rect(1px, 1px, 1px, 1px);\n",
       "  height: 1px;\n",
       "  margin: -1px;\n",
       "  overflow: hidden;\n",
       "  padding: 0;\n",
       "  position: absolute;\n",
       "  width: 1px;\n",
       "}\n",
       "\n",
       "#sk-container-id-1 div.sk-dashed-wrapped {\n",
       "  border: 1px dashed var(--sklearn-color-line);\n",
       "  margin: 0 0.4em 0.5em 0.4em;\n",
       "  box-sizing: border-box;\n",
       "  padding-bottom: 0.4em;\n",
       "  background-color: var(--sklearn-color-background);\n",
       "}\n",
       "\n",
       "#sk-container-id-1 div.sk-container {\n",
       "  /* jupyter's `normalize.less` sets `[hidden] { display: none; }`\n",
       "     but bootstrap.min.css set `[hidden] { display: none !important; }`\n",
       "     so we also need the `!important` here to be able to override the\n",
       "     default hidden behavior on the sphinx rendered scikit-learn.org.\n",
       "     See: https://github.com/scikit-learn/scikit-learn/issues/21755 */\n",
       "  display: inline-block !important;\n",
       "  position: relative;\n",
       "}\n",
       "\n",
       "#sk-container-id-1 div.sk-text-repr-fallback {\n",
       "  display: none;\n",
       "}\n",
       "\n",
       "div.sk-parallel-item,\n",
       "div.sk-serial,\n",
       "div.sk-item {\n",
       "  /* draw centered vertical line to link estimators */\n",
       "  background-image: linear-gradient(var(--sklearn-color-text-on-default-background), var(--sklearn-color-text-on-default-background));\n",
       "  background-size: 2px 100%;\n",
       "  background-repeat: no-repeat;\n",
       "  background-position: center center;\n",
       "}\n",
       "\n",
       "/* Parallel-specific style estimator block */\n",
       "\n",
       "#sk-container-id-1 div.sk-parallel-item::after {\n",
       "  content: \"\";\n",
       "  width: 100%;\n",
       "  border-bottom: 2px solid var(--sklearn-color-text-on-default-background);\n",
       "  flex-grow: 1;\n",
       "}\n",
       "\n",
       "#sk-container-id-1 div.sk-parallel {\n",
       "  display: flex;\n",
       "  align-items: stretch;\n",
       "  justify-content: center;\n",
       "  background-color: var(--sklearn-color-background);\n",
       "  position: relative;\n",
       "}\n",
       "\n",
       "#sk-container-id-1 div.sk-parallel-item {\n",
       "  display: flex;\n",
       "  flex-direction: column;\n",
       "}\n",
       "\n",
       "#sk-container-id-1 div.sk-parallel-item:first-child::after {\n",
       "  align-self: flex-end;\n",
       "  width: 50%;\n",
       "}\n",
       "\n",
       "#sk-container-id-1 div.sk-parallel-item:last-child::after {\n",
       "  align-self: flex-start;\n",
       "  width: 50%;\n",
       "}\n",
       "\n",
       "#sk-container-id-1 div.sk-parallel-item:only-child::after {\n",
       "  width: 0;\n",
       "}\n",
       "\n",
       "/* Serial-specific style estimator block */\n",
       "\n",
       "#sk-container-id-1 div.sk-serial {\n",
       "  display: flex;\n",
       "  flex-direction: column;\n",
       "  align-items: center;\n",
       "  background-color: var(--sklearn-color-background);\n",
       "  padding-right: 1em;\n",
       "  padding-left: 1em;\n",
       "}\n",
       "\n",
       "\n",
       "/* Toggleable style: style used for estimator/Pipeline/ColumnTransformer box that is\n",
       "clickable and can be expanded/collapsed.\n",
       "- Pipeline and ColumnTransformer use this feature and define the default style\n",
       "- Estimators will overwrite some part of the style using the `sk-estimator` class\n",
       "*/\n",
       "\n",
       "/* Pipeline and ColumnTransformer style (default) */\n",
       "\n",
       "#sk-container-id-1 div.sk-toggleable {\n",
       "  /* Default theme specific background. It is overwritten whether we have a\n",
       "  specific estimator or a Pipeline/ColumnTransformer */\n",
       "  background-color: var(--sklearn-color-background);\n",
       "}\n",
       "\n",
       "/* Toggleable label */\n",
       "#sk-container-id-1 label.sk-toggleable__label {\n",
       "  cursor: pointer;\n",
       "  display: flex;\n",
       "  width: 100%;\n",
       "  margin-bottom: 0;\n",
       "  padding: 0.5em;\n",
       "  box-sizing: border-box;\n",
       "  text-align: center;\n",
       "  align-items: start;\n",
       "  justify-content: space-between;\n",
       "  gap: 0.5em;\n",
       "}\n",
       "\n",
       "#sk-container-id-1 label.sk-toggleable__label .caption {\n",
       "  font-size: 0.6rem;\n",
       "  font-weight: lighter;\n",
       "  color: var(--sklearn-color-text-muted);\n",
       "}\n",
       "\n",
       "#sk-container-id-1 label.sk-toggleable__label-arrow:before {\n",
       "  /* Arrow on the left of the label */\n",
       "  content: \"▸\";\n",
       "  float: left;\n",
       "  margin-right: 0.25em;\n",
       "  color: var(--sklearn-color-icon);\n",
       "}\n",
       "\n",
       "#sk-container-id-1 label.sk-toggleable__label-arrow:hover:before {\n",
       "  color: var(--sklearn-color-text);\n",
       "}\n",
       "\n",
       "/* Toggleable content - dropdown */\n",
       "\n",
       "#sk-container-id-1 div.sk-toggleable__content {\n",
       "  max-height: 0;\n",
       "  max-width: 0;\n",
       "  overflow: hidden;\n",
       "  text-align: left;\n",
       "  /* unfitted */\n",
       "  background-color: var(--sklearn-color-unfitted-level-0);\n",
       "}\n",
       "\n",
       "#sk-container-id-1 div.sk-toggleable__content.fitted {\n",
       "  /* fitted */\n",
       "  background-color: var(--sklearn-color-fitted-level-0);\n",
       "}\n",
       "\n",
       "#sk-container-id-1 div.sk-toggleable__content pre {\n",
       "  margin: 0.2em;\n",
       "  border-radius: 0.25em;\n",
       "  color: var(--sklearn-color-text);\n",
       "  /* unfitted */\n",
       "  background-color: var(--sklearn-color-unfitted-level-0);\n",
       "}\n",
       "\n",
       "#sk-container-id-1 div.sk-toggleable__content.fitted pre {\n",
       "  /* unfitted */\n",
       "  background-color: var(--sklearn-color-fitted-level-0);\n",
       "}\n",
       "\n",
       "#sk-container-id-1 input.sk-toggleable__control:checked~div.sk-toggleable__content {\n",
       "  /* Expand drop-down */\n",
       "  max-height: 200px;\n",
       "  max-width: 100%;\n",
       "  overflow: auto;\n",
       "}\n",
       "\n",
       "#sk-container-id-1 input.sk-toggleable__control:checked~label.sk-toggleable__label-arrow:before {\n",
       "  content: \"▾\";\n",
       "}\n",
       "\n",
       "/* Pipeline/ColumnTransformer-specific style */\n",
       "\n",
       "#sk-container-id-1 div.sk-label input.sk-toggleable__control:checked~label.sk-toggleable__label {\n",
       "  color: var(--sklearn-color-text);\n",
       "  background-color: var(--sklearn-color-unfitted-level-2);\n",
       "}\n",
       "\n",
       "#sk-container-id-1 div.sk-label.fitted input.sk-toggleable__control:checked~label.sk-toggleable__label {\n",
       "  background-color: var(--sklearn-color-fitted-level-2);\n",
       "}\n",
       "\n",
       "/* Estimator-specific style */\n",
       "\n",
       "/* Colorize estimator box */\n",
       "#sk-container-id-1 div.sk-estimator input.sk-toggleable__control:checked~label.sk-toggleable__label {\n",
       "  /* unfitted */\n",
       "  background-color: var(--sklearn-color-unfitted-level-2);\n",
       "}\n",
       "\n",
       "#sk-container-id-1 div.sk-estimator.fitted input.sk-toggleable__control:checked~label.sk-toggleable__label {\n",
       "  /* fitted */\n",
       "  background-color: var(--sklearn-color-fitted-level-2);\n",
       "}\n",
       "\n",
       "#sk-container-id-1 div.sk-label label.sk-toggleable__label,\n",
       "#sk-container-id-1 div.sk-label label {\n",
       "  /* The background is the default theme color */\n",
       "  color: var(--sklearn-color-text-on-default-background);\n",
       "}\n",
       "\n",
       "/* On hover, darken the color of the background */\n",
       "#sk-container-id-1 div.sk-label:hover label.sk-toggleable__label {\n",
       "  color: var(--sklearn-color-text);\n",
       "  background-color: var(--sklearn-color-unfitted-level-2);\n",
       "}\n",
       "\n",
       "/* Label box, darken color on hover, fitted */\n",
       "#sk-container-id-1 div.sk-label.fitted:hover label.sk-toggleable__label.fitted {\n",
       "  color: var(--sklearn-color-text);\n",
       "  background-color: var(--sklearn-color-fitted-level-2);\n",
       "}\n",
       "\n",
       "/* Estimator label */\n",
       "\n",
       "#sk-container-id-1 div.sk-label label {\n",
       "  font-family: monospace;\n",
       "  font-weight: bold;\n",
       "  display: inline-block;\n",
       "  line-height: 1.2em;\n",
       "}\n",
       "\n",
       "#sk-container-id-1 div.sk-label-container {\n",
       "  text-align: center;\n",
       "}\n",
       "\n",
       "/* Estimator-specific */\n",
       "#sk-container-id-1 div.sk-estimator {\n",
       "  font-family: monospace;\n",
       "  border: 1px dotted var(--sklearn-color-border-box);\n",
       "  border-radius: 0.25em;\n",
       "  box-sizing: border-box;\n",
       "  margin-bottom: 0.5em;\n",
       "  /* unfitted */\n",
       "  background-color: var(--sklearn-color-unfitted-level-0);\n",
       "}\n",
       "\n",
       "#sk-container-id-1 div.sk-estimator.fitted {\n",
       "  /* fitted */\n",
       "  background-color: var(--sklearn-color-fitted-level-0);\n",
       "}\n",
       "\n",
       "/* on hover */\n",
       "#sk-container-id-1 div.sk-estimator:hover {\n",
       "  /* unfitted */\n",
       "  background-color: var(--sklearn-color-unfitted-level-2);\n",
       "}\n",
       "\n",
       "#sk-container-id-1 div.sk-estimator.fitted:hover {\n",
       "  /* fitted */\n",
       "  background-color: var(--sklearn-color-fitted-level-2);\n",
       "}\n",
       "\n",
       "/* Specification for estimator info (e.g. \"i\" and \"?\") */\n",
       "\n",
       "/* Common style for \"i\" and \"?\" */\n",
       "\n",
       ".sk-estimator-doc-link,\n",
       "a:link.sk-estimator-doc-link,\n",
       "a:visited.sk-estimator-doc-link {\n",
       "  float: right;\n",
       "  font-size: smaller;\n",
       "  line-height: 1em;\n",
       "  font-family: monospace;\n",
       "  background-color: var(--sklearn-color-background);\n",
       "  border-radius: 1em;\n",
       "  height: 1em;\n",
       "  width: 1em;\n",
       "  text-decoration: none !important;\n",
       "  margin-left: 0.5em;\n",
       "  text-align: center;\n",
       "  /* unfitted */\n",
       "  border: var(--sklearn-color-unfitted-level-1) 1pt solid;\n",
       "  color: var(--sklearn-color-unfitted-level-1);\n",
       "}\n",
       "\n",
       ".sk-estimator-doc-link.fitted,\n",
       "a:link.sk-estimator-doc-link.fitted,\n",
       "a:visited.sk-estimator-doc-link.fitted {\n",
       "  /* fitted */\n",
       "  border: var(--sklearn-color-fitted-level-1) 1pt solid;\n",
       "  color: var(--sklearn-color-fitted-level-1);\n",
       "}\n",
       "\n",
       "/* On hover */\n",
       "div.sk-estimator:hover .sk-estimator-doc-link:hover,\n",
       ".sk-estimator-doc-link:hover,\n",
       "div.sk-label-container:hover .sk-estimator-doc-link:hover,\n",
       ".sk-estimator-doc-link:hover {\n",
       "  /* unfitted */\n",
       "  background-color: var(--sklearn-color-unfitted-level-3);\n",
       "  color: var(--sklearn-color-background);\n",
       "  text-decoration: none;\n",
       "}\n",
       "\n",
       "div.sk-estimator.fitted:hover .sk-estimator-doc-link.fitted:hover,\n",
       ".sk-estimator-doc-link.fitted:hover,\n",
       "div.sk-label-container:hover .sk-estimator-doc-link.fitted:hover,\n",
       ".sk-estimator-doc-link.fitted:hover {\n",
       "  /* fitted */\n",
       "  background-color: var(--sklearn-color-fitted-level-3);\n",
       "  color: var(--sklearn-color-background);\n",
       "  text-decoration: none;\n",
       "}\n",
       "\n",
       "/* Span, style for the box shown on hovering the info icon */\n",
       ".sk-estimator-doc-link span {\n",
       "  display: none;\n",
       "  z-index: 9999;\n",
       "  position: relative;\n",
       "  font-weight: normal;\n",
       "  right: .2ex;\n",
       "  padding: .5ex;\n",
       "  margin: .5ex;\n",
       "  width: min-content;\n",
       "  min-width: 20ex;\n",
       "  max-width: 50ex;\n",
       "  color: var(--sklearn-color-text);\n",
       "  box-shadow: 2pt 2pt 4pt #999;\n",
       "  /* unfitted */\n",
       "  background: var(--sklearn-color-unfitted-level-0);\n",
       "  border: .5pt solid var(--sklearn-color-unfitted-level-3);\n",
       "}\n",
       "\n",
       ".sk-estimator-doc-link.fitted span {\n",
       "  /* fitted */\n",
       "  background: var(--sklearn-color-fitted-level-0);\n",
       "  border: var(--sklearn-color-fitted-level-3);\n",
       "}\n",
       "\n",
       ".sk-estimator-doc-link:hover span {\n",
       "  display: block;\n",
       "}\n",
       "\n",
       "/* \"?\"-specific style due to the `<a>` HTML tag */\n",
       "\n",
       "#sk-container-id-1 a.estimator_doc_link {\n",
       "  float: right;\n",
       "  font-size: 1rem;\n",
       "  line-height: 1em;\n",
       "  font-family: monospace;\n",
       "  background-color: var(--sklearn-color-background);\n",
       "  border-radius: 1rem;\n",
       "  height: 1rem;\n",
       "  width: 1rem;\n",
       "  text-decoration: none;\n",
       "  /* unfitted */\n",
       "  color: var(--sklearn-color-unfitted-level-1);\n",
       "  border: var(--sklearn-color-unfitted-level-1) 1pt solid;\n",
       "}\n",
       "\n",
       "#sk-container-id-1 a.estimator_doc_link.fitted {\n",
       "  /* fitted */\n",
       "  border: var(--sklearn-color-fitted-level-1) 1pt solid;\n",
       "  color: var(--sklearn-color-fitted-level-1);\n",
       "}\n",
       "\n",
       "/* On hover */\n",
       "#sk-container-id-1 a.estimator_doc_link:hover {\n",
       "  /* unfitted */\n",
       "  background-color: var(--sklearn-color-unfitted-level-3);\n",
       "  color: var(--sklearn-color-background);\n",
       "  text-decoration: none;\n",
       "}\n",
       "\n",
       "#sk-container-id-1 a.estimator_doc_link.fitted:hover {\n",
       "  /* fitted */\n",
       "  background-color: var(--sklearn-color-fitted-level-3);\n",
       "}\n",
       "</style><div id=\"sk-container-id-1\" class=\"sk-top-container\"><div class=\"sk-text-repr-fallback\"><pre>RandomizedSearchCV(cv=5,\n",
       "                   estimator=Pipeline(steps=[(&#x27;preprocessor&#x27;,\n",
       "                                              ColumnTransformer(transformers=[(&#x27;cat&#x27;,\n",
       "                                                                               OneHotEncoder(handle_unknown=&#x27;ignore&#x27;),\n",
       "                                                                               Index([&#x27;gender&#x27;, &#x27;industry&#x27;, &#x27;profession&#x27;, &#x27;traffic&#x27;, &#x27;coach&#x27;, &#x27;head_gender&#x27;,\n",
       "       &#x27;greywage&#x27;, &#x27;way&#x27;],\n",
       "      dtype=&#x27;object&#x27;)),\n",
       "                                                                              (&#x27;num&#x27;,\n",
       "                                                                               StandardScaler(),\n",
       "                                                                               Index([&#x27;stag&#x27;, &#x27;age&#x27;, &#x27;extraversion&#x27;, &#x27;independ&#x27;, &#x27;selfcontrol&#x27;, &#x27;anxiety&#x27;,\n",
       "       &#x27;nova...\n",
       "                                              BaggingClassifier(estimator=RandomForestClassifier(n_jobs=-1,\n",
       "                                                                                                 random_state=19),\n",
       "                                                                n_jobs=-1,\n",
       "                                                                random_state=19))]),\n",
       "                   n_jobs=-1,\n",
       "                   param_distributions={&#x27;model__estimator__max_depth&#x27;: [5, 10,\n",
       "                                                                        None],\n",
       "                                        &#x27;model__estimator__min_samples_split&#x27;: [2,\n",
       "                                                                                5],\n",
       "                                        &#x27;model__estimator__n_estimators&#x27;: [50,\n",
       "                                                                           100],\n",
       "                                        &#x27;model__max_features&#x27;: [0.7, 1.0],\n",
       "                                        &#x27;model__max_samples&#x27;: [0.7, 1.0],\n",
       "                                        &#x27;model__n_estimators&#x27;: [10, 50, 100]},\n",
       "                   scoring=&#x27;recall&#x27;, verbose=2)</pre><b>In a Jupyter environment, please rerun this cell to show the HTML representation or trust the notebook. <br />On GitHub, the HTML representation is unable to render, please try loading this page with nbviewer.org.</b></div><div class=\"sk-container\" hidden><div class=\"sk-item sk-dashed-wrapped\"><div class=\"sk-label-container\"><div class=\"sk-label fitted sk-toggleable\"><input class=\"sk-toggleable__control sk-hidden--visually\" id=\"sk-estimator-id-1\" type=\"checkbox\" ><label for=\"sk-estimator-id-1\" class=\"sk-toggleable__label fitted sk-toggleable__label-arrow\"><div><div>RandomizedSearchCV</div></div><div><a class=\"sk-estimator-doc-link fitted\" rel=\"noreferrer\" target=\"_blank\" href=\"https://scikit-learn.org/1.6/modules/generated/sklearn.model_selection.RandomizedSearchCV.html\">?<span>Documentation for RandomizedSearchCV</span></a><span class=\"sk-estimator-doc-link fitted\">i<span>Fitted</span></span></div></label><div class=\"sk-toggleable__content fitted\"><pre>RandomizedSearchCV(cv=5,\n",
       "                   estimator=Pipeline(steps=[(&#x27;preprocessor&#x27;,\n",
       "                                              ColumnTransformer(transformers=[(&#x27;cat&#x27;,\n",
       "                                                                               OneHotEncoder(handle_unknown=&#x27;ignore&#x27;),\n",
       "                                                                               Index([&#x27;gender&#x27;, &#x27;industry&#x27;, &#x27;profession&#x27;, &#x27;traffic&#x27;, &#x27;coach&#x27;, &#x27;head_gender&#x27;,\n",
       "       &#x27;greywage&#x27;, &#x27;way&#x27;],\n",
       "      dtype=&#x27;object&#x27;)),\n",
       "                                                                              (&#x27;num&#x27;,\n",
       "                                                                               StandardScaler(),\n",
       "                                                                               Index([&#x27;stag&#x27;, &#x27;age&#x27;, &#x27;extraversion&#x27;, &#x27;independ&#x27;, &#x27;selfcontrol&#x27;, &#x27;anxiety&#x27;,\n",
       "       &#x27;nova...\n",
       "                                              BaggingClassifier(estimator=RandomForestClassifier(n_jobs=-1,\n",
       "                                                                                                 random_state=19),\n",
       "                                                                n_jobs=-1,\n",
       "                                                                random_state=19))]),\n",
       "                   n_jobs=-1,\n",
       "                   param_distributions={&#x27;model__estimator__max_depth&#x27;: [5, 10,\n",
       "                                                                        None],\n",
       "                                        &#x27;model__estimator__min_samples_split&#x27;: [2,\n",
       "                                                                                5],\n",
       "                                        &#x27;model__estimator__n_estimators&#x27;: [50,\n",
       "                                                                           100],\n",
       "                                        &#x27;model__max_features&#x27;: [0.7, 1.0],\n",
       "                                        &#x27;model__max_samples&#x27;: [0.7, 1.0],\n",
       "                                        &#x27;model__n_estimators&#x27;: [10, 50, 100]},\n",
       "                   scoring=&#x27;recall&#x27;, verbose=2)</pre></div> </div></div><div class=\"sk-parallel\"><div class=\"sk-parallel-item\"><div class=\"sk-item\"><div class=\"sk-label-container\"><div class=\"sk-label fitted sk-toggleable\"><input class=\"sk-toggleable__control sk-hidden--visually\" id=\"sk-estimator-id-2\" type=\"checkbox\" ><label for=\"sk-estimator-id-2\" class=\"sk-toggleable__label fitted sk-toggleable__label-arrow\"><div><div>best_estimator_: Pipeline</div></div></label><div class=\"sk-toggleable__content fitted\"><pre>Pipeline(steps=[(&#x27;preprocessor&#x27;,\n",
       "                 ColumnTransformer(transformers=[(&#x27;cat&#x27;,\n",
       "                                                  OneHotEncoder(handle_unknown=&#x27;ignore&#x27;),\n",
       "                                                  Index([&#x27;gender&#x27;, &#x27;industry&#x27;, &#x27;profession&#x27;, &#x27;traffic&#x27;, &#x27;coach&#x27;, &#x27;head_gender&#x27;,\n",
       "       &#x27;greywage&#x27;, &#x27;way&#x27;],\n",
       "      dtype=&#x27;object&#x27;)),\n",
       "                                                 (&#x27;num&#x27;, StandardScaler(),\n",
       "                                                  Index([&#x27;stag&#x27;, &#x27;age&#x27;, &#x27;extraversion&#x27;, &#x27;independ&#x27;, &#x27;selfcontrol&#x27;, &#x27;anxiety&#x27;,\n",
       "       &#x27;novator&#x27;],\n",
       "      dtype=&#x27;object&#x27;))])),\n",
       "                (&#x27;model&#x27;,\n",
       "                 BaggingClassifier(estimator=RandomForestClassifier(max_depth=10,\n",
       "                                                                    n_estimators=50,\n",
       "                                                                    n_jobs=-1,\n",
       "                                                                    random_state=19),\n",
       "                                   max_features=0.7, n_estimators=50, n_jobs=-1,\n",
       "                                   random_state=19))])</pre></div> </div></div><div class=\"sk-serial\"><div class=\"sk-item\"><div class=\"sk-serial\"><div class=\"sk-item sk-dashed-wrapped\"><div class=\"sk-label-container\"><div class=\"sk-label fitted sk-toggleable\"><input class=\"sk-toggleable__control sk-hidden--visually\" id=\"sk-estimator-id-3\" type=\"checkbox\" ><label for=\"sk-estimator-id-3\" class=\"sk-toggleable__label fitted sk-toggleable__label-arrow\"><div><div>preprocessor: ColumnTransformer</div></div><div><a class=\"sk-estimator-doc-link fitted\" rel=\"noreferrer\" target=\"_blank\" href=\"https://scikit-learn.org/1.6/modules/generated/sklearn.compose.ColumnTransformer.html\">?<span>Documentation for preprocessor: ColumnTransformer</span></a></div></label><div class=\"sk-toggleable__content fitted\"><pre>ColumnTransformer(transformers=[(&#x27;cat&#x27;, OneHotEncoder(handle_unknown=&#x27;ignore&#x27;),\n",
       "                                 Index([&#x27;gender&#x27;, &#x27;industry&#x27;, &#x27;profession&#x27;, &#x27;traffic&#x27;, &#x27;coach&#x27;, &#x27;head_gender&#x27;,\n",
       "       &#x27;greywage&#x27;, &#x27;way&#x27;],\n",
       "      dtype=&#x27;object&#x27;)),\n",
       "                                (&#x27;num&#x27;, StandardScaler(),\n",
       "                                 Index([&#x27;stag&#x27;, &#x27;age&#x27;, &#x27;extraversion&#x27;, &#x27;independ&#x27;, &#x27;selfcontrol&#x27;, &#x27;anxiety&#x27;,\n",
       "       &#x27;novator&#x27;],\n",
       "      dtype=&#x27;object&#x27;))])</pre></div> </div></div><div class=\"sk-parallel\"><div class=\"sk-parallel-item\"><div class=\"sk-item\"><div class=\"sk-label-container\"><div class=\"sk-label fitted sk-toggleable\"><input class=\"sk-toggleable__control sk-hidden--visually\" id=\"sk-estimator-id-4\" type=\"checkbox\" ><label for=\"sk-estimator-id-4\" class=\"sk-toggleable__label fitted sk-toggleable__label-arrow\"><div><div>cat</div></div></label><div class=\"sk-toggleable__content fitted\"><pre>Index([&#x27;gender&#x27;, &#x27;industry&#x27;, &#x27;profession&#x27;, &#x27;traffic&#x27;, &#x27;coach&#x27;, &#x27;head_gender&#x27;,\n",
       "       &#x27;greywage&#x27;, &#x27;way&#x27;],\n",
       "      dtype=&#x27;object&#x27;)</pre></div> </div></div><div class=\"sk-serial\"><div class=\"sk-item\"><div class=\"sk-estimator fitted sk-toggleable\"><input class=\"sk-toggleable__control sk-hidden--visually\" id=\"sk-estimator-id-5\" type=\"checkbox\" ><label for=\"sk-estimator-id-5\" class=\"sk-toggleable__label fitted sk-toggleable__label-arrow\"><div><div>OneHotEncoder</div></div><div><a class=\"sk-estimator-doc-link fitted\" rel=\"noreferrer\" target=\"_blank\" href=\"https://scikit-learn.org/1.6/modules/generated/sklearn.preprocessing.OneHotEncoder.html\">?<span>Documentation for OneHotEncoder</span></a></div></label><div class=\"sk-toggleable__content fitted\"><pre>OneHotEncoder(handle_unknown=&#x27;ignore&#x27;)</pre></div> </div></div></div></div></div><div class=\"sk-parallel-item\"><div class=\"sk-item\"><div class=\"sk-label-container\"><div class=\"sk-label fitted sk-toggleable\"><input class=\"sk-toggleable__control sk-hidden--visually\" id=\"sk-estimator-id-6\" type=\"checkbox\" ><label for=\"sk-estimator-id-6\" class=\"sk-toggleable__label fitted sk-toggleable__label-arrow\"><div><div>num</div></div></label><div class=\"sk-toggleable__content fitted\"><pre>Index([&#x27;stag&#x27;, &#x27;age&#x27;, &#x27;extraversion&#x27;, &#x27;independ&#x27;, &#x27;selfcontrol&#x27;, &#x27;anxiety&#x27;,\n",
       "       &#x27;novator&#x27;],\n",
       "      dtype=&#x27;object&#x27;)</pre></div> </div></div><div class=\"sk-serial\"><div class=\"sk-item\"><div class=\"sk-estimator fitted sk-toggleable\"><input class=\"sk-toggleable__control sk-hidden--visually\" id=\"sk-estimator-id-7\" type=\"checkbox\" ><label for=\"sk-estimator-id-7\" class=\"sk-toggleable__label fitted sk-toggleable__label-arrow\"><div><div>StandardScaler</div></div><div><a class=\"sk-estimator-doc-link fitted\" rel=\"noreferrer\" target=\"_blank\" href=\"https://scikit-learn.org/1.6/modules/generated/sklearn.preprocessing.StandardScaler.html\">?<span>Documentation for StandardScaler</span></a></div></label><div class=\"sk-toggleable__content fitted\"><pre>StandardScaler()</pre></div> </div></div></div></div></div></div></div><div class=\"sk-item sk-dashed-wrapped\"><div class=\"sk-label-container\"><div class=\"sk-label fitted sk-toggleable\"><input class=\"sk-toggleable__control sk-hidden--visually\" id=\"sk-estimator-id-8\" type=\"checkbox\" ><label for=\"sk-estimator-id-8\" class=\"sk-toggleable__label fitted sk-toggleable__label-arrow\"><div><div>model: BaggingClassifier</div></div><div><a class=\"sk-estimator-doc-link fitted\" rel=\"noreferrer\" target=\"_blank\" href=\"https://scikit-learn.org/1.6/modules/generated/sklearn.ensemble.BaggingClassifier.html\">?<span>Documentation for model: BaggingClassifier</span></a></div></label><div class=\"sk-toggleable__content fitted\"><pre>BaggingClassifier(estimator=RandomForestClassifier(max_depth=10,\n",
       "                                                   n_estimators=50, n_jobs=-1,\n",
       "                                                   random_state=19),\n",
       "                  max_features=0.7, n_estimators=50, n_jobs=-1,\n",
       "                  random_state=19)</pre></div> </div></div><div class=\"sk-parallel\"><div class=\"sk-parallel-item\"><div class=\"sk-item\"><div class=\"sk-label-container\"><div class=\"sk-label fitted sk-toggleable\"><input class=\"sk-toggleable__control sk-hidden--visually\" id=\"sk-estimator-id-9\" type=\"checkbox\" ><label for=\"sk-estimator-id-9\" class=\"sk-toggleable__label fitted sk-toggleable__label-arrow\"><div><div>estimator: RandomForestClassifier</div></div></label><div class=\"sk-toggleable__content fitted\"><pre>RandomForestClassifier(max_depth=10, n_estimators=50, n_jobs=-1,\n",
       "                       random_state=19)</pre></div> </div></div><div class=\"sk-serial\"><div class=\"sk-item\"><div class=\"sk-estimator fitted sk-toggleable\"><input class=\"sk-toggleable__control sk-hidden--visually\" id=\"sk-estimator-id-10\" type=\"checkbox\" ><label for=\"sk-estimator-id-10\" class=\"sk-toggleable__label fitted sk-toggleable__label-arrow\"><div><div>RandomForestClassifier</div></div><div><a class=\"sk-estimator-doc-link fitted\" rel=\"noreferrer\" target=\"_blank\" href=\"https://scikit-learn.org/1.6/modules/generated/sklearn.ensemble.RandomForestClassifier.html\">?<span>Documentation for RandomForestClassifier</span></a></div></label><div class=\"sk-toggleable__content fitted\"><pre>RandomForestClassifier(max_depth=10, n_estimators=50, n_jobs=-1,\n",
       "                       random_state=19)</pre></div> </div></div></div></div></div></div></div></div></div></div></div></div></div></div></div></div>"
      ],
      "text/plain": [
       "RandomizedSearchCV(cv=5,\n",
       "                   estimator=Pipeline(steps=[('preprocessor',\n",
       "                                              ColumnTransformer(transformers=[('cat',\n",
       "                                                                               OneHotEncoder(handle_unknown='ignore'),\n",
       "                                                                               Index(['gender', 'industry', 'profession', 'traffic', 'coach', 'head_gender',\n",
       "       'greywage', 'way'],\n",
       "      dtype='object')),\n",
       "                                                                              ('num',\n",
       "                                                                               StandardScaler(),\n",
       "                                                                               Index(['stag', 'age', 'extraversion', 'independ', 'selfcontrol', 'anxiety',\n",
       "       'nova...\n",
       "                                              BaggingClassifier(estimator=RandomForestClassifier(n_jobs=-1,\n",
       "                                                                                                 random_state=19),\n",
       "                                                                n_jobs=-1,\n",
       "                                                                random_state=19))]),\n",
       "                   n_jobs=-1,\n",
       "                   param_distributions={'model__estimator__max_depth': [5, 10,\n",
       "                                                                        None],\n",
       "                                        'model__estimator__min_samples_split': [2,\n",
       "                                                                                5],\n",
       "                                        'model__estimator__n_estimators': [50,\n",
       "                                                                           100],\n",
       "                                        'model__max_features': [0.7, 1.0],\n",
       "                                        'model__max_samples': [0.7, 1.0],\n",
       "                                        'model__n_estimators': [10, 50, 100]},\n",
       "                   scoring='recall', verbose=2)"
      ]
     },
     "execution_count": 44,
     "metadata": {},
     "output_type": "execute_result"
    }
   ],
   "source": [
    "random_search = RandomizedSearchCV(pipeline, param_grid, scoring=\"recall\", cv=5, n_jobs=-1, verbose=2)\n",
    "random_search.fit(X_train, y_train)"
   ]
  },
  {
   "cell_type": "code",
   "execution_count": 45,
   "metadata": {},
   "outputs": [
    {
     "name": "stdout",
     "output_type": "stream",
     "text": [
      "Best Parameters: {'model__n_estimators': 50, 'model__max_samples': 1.0, 'model__max_features': 0.7, 'model__estimator__n_estimators': 50, 'model__estimator__min_samples_split': 2, 'model__estimator__max_depth': 10}\n"
     ]
    }
   ],
   "source": [
    "# Best parameters\n",
    "print(\"Best Parameters:\", random_search.best_params_)\n",
    "\n",
    "# Best Model\n",
    "best_model = random_search.best_estimator_"
   ]
  },
  {
   "cell_type": "code",
   "execution_count": 46,
   "metadata": {},
   "outputs": [
    {
     "name": "stdout",
     "output_type": "stream",
     "text": [
      "0.7037037037037037\n",
      "0.6585357063050985\n",
      "0.6595174262734584\n"
     ]
    }
   ],
   "source": [
    "y_pred = best_model.predict(X_test)\n",
    "best_model_report = classification_report(y_test, y_pred, output_dict = True)\n",
    "print(best_model_report[\"1\"][\"recall\"])\n",
    "print(best_model_report[\"macro avg\"][\"f1-score\"])\n",
    "print(best_model_report[\"accuracy\"])"
   ]
  },
  {
   "cell_type": "code",
   "execution_count": 52,
   "metadata": {},
   "outputs": [
    {
     "data": {
      "image/png": "[encoded data removed]",
      "text/plain": [
       "<Figure size 600x500 with 2 Axes>"
      ]
     },
     "metadata": {},
     "output_type": "display_data"
    }
   ],
   "source": [
    "best_model_matrix = confusion_matrix(y_test, y_pred)\n",
    "plt.figure(figsize=(6, 5))\n",
    "sns.heatmap(best_model_matrix, annot=True, fmt=\"d\", cmap=\"Blues\", xticklabels=[\"Not Leaving\", \"Leaving\"], yticklabels=[\"Not Leaving\", \"Leaving\"])\n",
    "plt.xlabel(\"Predicted Label\")\n",
    "plt.ylabel(\"True Label\")\n",
    "plt.title(\"Confusion Matrix\")\n",
    "plt.show()"
   ]
  },
  {
   "cell_type": "markdown",
   "metadata": {},
   "source": [
    "## Saving the selected model"
   ]
  },
  {
   "cell_type": "code",
   "execution_count": 60,
   "metadata": {},
   "outputs": [],
   "source": [
    "os.makedirs(\"../models\", exist_ok=True)"
   ]
  },
  {
   "cell_type": "code",
   "execution_count": 61,
   "metadata": {},
   "outputs": [
    {
     "data": {
      "text/plain": [
       "['../models/prep2.pkl']"
      ]
     },
     "execution_count": 61,
     "metadata": {},
     "output_type": "execute_result"
    }
   ],
   "source": [
    "joblib.dump(best_model, \"../models/p2_bagg_hyp.pkl\")\n",
    "joblib.dump(preprocessor2, \"../models/prep2.pkl\")"
   ]
  },
  {
   "cell_type": "markdown",
   "metadata": {},
   "source": [
    "### Saving train and test data"
   ]
  },
  {
   "cell_type": "code",
   "execution_count": null,
   "metadata": {},
   "outputs": [],
   "source": [
    "X_train.to_csv(\"../data/final/X_train.csv\", index = False)\n",
    "y_train.to_csv(\"../data/final/y_train.csv\", index = False)\n",
    "X_test.to_csv(\"../data/final/X_test.csv\", index = False)\n",
    "y_test.to_csv(\"../data/final/y_test.csv\", index = False)"
   ]
  },
  {
   "cell_type": "code",
   "execution_count": 65,
   "metadata": {},
   "outputs": [],
   "source": [
    "X.to_csv(\"../data/final/X.csv\", index = False)\n",
    "y.to_csv(\"../data/final/y.csv\", index = False)"
   ]
  },
  {
   "cell_type": "code",
   "execution_count": null,
   "metadata": {},
   "outputs": [],
   "source": []
  }
 ],
 "metadata": {
  "kernelspec": {
   "display_name": "venv",
   "language": "python",
   "name": "python3"
  },
  "language_info": {
   "codemirror_mode": {
    "name": "ipython",
    "version": 3
   },
   "file_extension": ".py",
   "mimetype": "text/x-python",
   "name": "python",
   "nbconvert_exporter": "python",
   "pygments_lexer": "ipython3",
   "version": "3.11.7"
  }
 },
 "nbformat": 4,
 "nbformat_minor": 2
}
