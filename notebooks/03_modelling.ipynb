{
 "cells": [
  {
   "cell_type": "code",
   "execution_count": 2,
   "metadata": {},
   "outputs": [],
   "source": [
    "import numpy as np\n",
    "import pandas as pd\n",
    "from sklearn.linear_model import LogisticRegression\n",
    "from sklearn.svm import SVC\n",
    "from sklearn.model_selection import train_test_split\n",
    "from sklearn.metrics import accuracy_score, classification_report\n",
    "from sklearn.preprocessing import OneHotEncoder\n",
    "from sklearn.compose import ColumnTransformer\n",
    "from sklearn.pipeline import Pipeline\n",
    "from sklearn.ensemble import RandomForestClassifier, BaggingClassifier\n",
    "from xgboost import XGBClassifier"
   ]
  },
  {
   "cell_type": "code",
   "execution_count": 23,
   "metadata": {},
   "outputs": [],
   "source": [
    "from sklearn.ensemble import AdaBoostClassifier"
   ]
  },
  {
   "cell_type": "code",
   "execution_count": 3,
   "metadata": {},
   "outputs": [
    {
     "data": {
      "text/html": [
       "<div>\n",
       "<style scoped>\n",
       "    .dataframe tbody tr th:only-of-type {\n",
       "        vertical-align: middle;\n",
       "    }\n",
       "\n",
       "    .dataframe tbody tr th {\n",
       "        vertical-align: top;\n",
       "    }\n",
       "\n",
       "    .dataframe thead th {\n",
       "        text-align: right;\n",
       "    }\n",
       "</style>\n",
       "<table border=\"1\" class=\"dataframe\">\n",
       "  <thead>\n",
       "    <tr style=\"text-align: right;\">\n",
       "      <th></th>\n",
       "      <th>stag</th>\n",
       "      <th>event</th>\n",
       "      <th>gender</th>\n",
       "      <th>age</th>\n",
       "      <th>industry</th>\n",
       "      <th>profession</th>\n",
       "      <th>traffic</th>\n",
       "      <th>coach</th>\n",
       "      <th>head_gender</th>\n",
       "      <th>greywage</th>\n",
       "      <th>way</th>\n",
       "      <th>extraversion</th>\n",
       "      <th>independ</th>\n",
       "      <th>selfcontrol</th>\n",
       "      <th>anxiety</th>\n",
       "      <th>novator</th>\n",
       "    </tr>\n",
       "  </thead>\n",
       "  <tbody>\n",
       "    <tr>\n",
       "      <th>0</th>\n",
       "      <td>7.030801</td>\n",
       "      <td>1</td>\n",
       "      <td>m</td>\n",
       "      <td>35.0</td>\n",
       "      <td>Banks</td>\n",
       "      <td>HR</td>\n",
       "      <td>rabrecNErab</td>\n",
       "      <td>no</td>\n",
       "      <td>f</td>\n",
       "      <td>white</td>\n",
       "      <td>bus</td>\n",
       "      <td>6.2</td>\n",
       "      <td>4.1</td>\n",
       "      <td>5.7</td>\n",
       "      <td>7.1</td>\n",
       "      <td>8.3</td>\n",
       "    </tr>\n",
       "    <tr>\n",
       "      <th>1</th>\n",
       "      <td>22.965092</td>\n",
       "      <td>1</td>\n",
       "      <td>m</td>\n",
       "      <td>33.0</td>\n",
       "      <td>Banks</td>\n",
       "      <td>HR</td>\n",
       "      <td>empjs</td>\n",
       "      <td>no</td>\n",
       "      <td>m</td>\n",
       "      <td>white</td>\n",
       "      <td>bus</td>\n",
       "      <td>6.2</td>\n",
       "      <td>4.1</td>\n",
       "      <td>5.7</td>\n",
       "      <td>7.1</td>\n",
       "      <td>8.3</td>\n",
       "    </tr>\n",
       "    <tr>\n",
       "      <th>2</th>\n",
       "      <td>15.934292</td>\n",
       "      <td>1</td>\n",
       "      <td>f</td>\n",
       "      <td>35.0</td>\n",
       "      <td>PowerGeneration</td>\n",
       "      <td>HR</td>\n",
       "      <td>rabrecNErab</td>\n",
       "      <td>no</td>\n",
       "      <td>m</td>\n",
       "      <td>white</td>\n",
       "      <td>bus</td>\n",
       "      <td>6.2</td>\n",
       "      <td>6.2</td>\n",
       "      <td>2.6</td>\n",
       "      <td>4.8</td>\n",
       "      <td>8.3</td>\n",
       "    </tr>\n",
       "    <tr>\n",
       "      <th>3</th>\n",
       "      <td>15.934292</td>\n",
       "      <td>1</td>\n",
       "      <td>f</td>\n",
       "      <td>35.0</td>\n",
       "      <td>PowerGeneration</td>\n",
       "      <td>HR</td>\n",
       "      <td>rabrecNErab</td>\n",
       "      <td>no</td>\n",
       "      <td>m</td>\n",
       "      <td>white</td>\n",
       "      <td>bus</td>\n",
       "      <td>5.4</td>\n",
       "      <td>7.6</td>\n",
       "      <td>4.9</td>\n",
       "      <td>2.5</td>\n",
       "      <td>6.7</td>\n",
       "    </tr>\n",
       "    <tr>\n",
       "      <th>4</th>\n",
       "      <td>8.410678</td>\n",
       "      <td>1</td>\n",
       "      <td>m</td>\n",
       "      <td>32.0</td>\n",
       "      <td>Retail</td>\n",
       "      <td>Commercial</td>\n",
       "      <td>youjs</td>\n",
       "      <td>yes</td>\n",
       "      <td>f</td>\n",
       "      <td>white</td>\n",
       "      <td>bus</td>\n",
       "      <td>3.0</td>\n",
       "      <td>4.1</td>\n",
       "      <td>8.0</td>\n",
       "      <td>7.1</td>\n",
       "      <td>3.7</td>\n",
       "    </tr>\n",
       "  </tbody>\n",
       "</table>\n",
       "</div>"
      ],
      "text/plain": [
       "        stag  event gender   age         industry  profession      traffic  \\\n",
       "0   7.030801      1      m  35.0            Banks          HR  rabrecNErab   \n",
       "1  22.965092      1      m  33.0            Banks          HR        empjs   \n",
       "2  15.934292      1      f  35.0  PowerGeneration          HR  rabrecNErab   \n",
       "3  15.934292      1      f  35.0  PowerGeneration          HR  rabrecNErab   \n",
       "4   8.410678      1      m  32.0           Retail  Commercial        youjs   \n",
       "\n",
       "  coach head_gender greywage  way  extraversion  independ  selfcontrol  \\\n",
       "0    no           f    white  bus           6.2       4.1          5.7   \n",
       "1    no           m    white  bus           6.2       4.1          5.7   \n",
       "2    no           m    white  bus           6.2       6.2          2.6   \n",
       "3    no           m    white  bus           5.4       7.6          4.9   \n",
       "4   yes           f    white  bus           3.0       4.1          8.0   \n",
       "\n",
       "   anxiety  novator  \n",
       "0      7.1      8.3  \n",
       "1      7.1      8.3  \n",
       "2      4.8      8.3  \n",
       "3      2.5      6.7  \n",
       "4      7.1      3.7  "
      ]
     },
     "execution_count": 3,
     "metadata": {},
     "output_type": "execute_result"
    }
   ],
   "source": [
    "data = pd.read_csv(\"../data/raw/turnover.csv\")\n",
    "data.head()"
   ]
  },
  {
   "cell_type": "code",
   "execution_count": 4,
   "metadata": {},
   "outputs": [],
   "source": [
    "X = data.drop(columns = [\"event\"])\n",
    "y = data[\"event\"]"
   ]
  },
  {
   "cell_type": "code",
   "execution_count": 5,
   "metadata": {},
   "outputs": [],
   "source": [
    "X_train, X_test, y_train, y_test = train_test_split(X, y, test_size=0.33, random_state=42, stratify = y)"
   ]
  },
  {
   "cell_type": "code",
   "execution_count": 6,
   "metadata": {},
   "outputs": [],
   "source": [
    "cat_cols = X_train.select_dtypes(include = [\"object\"]).columns"
   ]
  },
  {
   "cell_type": "code",
   "execution_count": 7,
   "metadata": {},
   "outputs": [],
   "source": [
    "cat_transformer = OneHotEncoder(handle_unknown='ignore')"
   ]
  },
  {
   "cell_type": "code",
   "execution_count": 8,
   "metadata": {},
   "outputs": [],
   "source": [
    "preprocessor = ColumnTransformer(\n",
    "    transformers=[\n",
    "        ('cat', cat_transformer, cat_cols)  # Apply to categorical\n",
    "    ]\n",
    ")"
   ]
  },
  {
   "cell_type": "code",
   "execution_count": 9,
   "metadata": {},
   "outputs": [],
   "source": [
    "pipeline_log_reg = Pipeline(steps=[\n",
    "    ('preprocessor', preprocessor),\n",
    "    ('classifier', LogisticRegression())\n",
    "])"
   ]
  },
  {
   "cell_type": "code",
   "execution_count": 10,
   "metadata": {},
   "outputs": [
    {
     "name": "stdout",
     "output_type": "stream",
     "text": [
      "0.613941018766756\n",
      "{'0': {'precision': 0.6111111111111112, 'recall': 0.5978260869565217, 'f1-score': 0.6043956043956044, 'support': 184.0}, '1': {'precision': 0.616580310880829, 'recall': 0.6296296296296297, 'f1-score': 0.6230366492146597, 'support': 189.0}, 'accuracy': 0.613941018766756, 'macro avg': {'precision': 0.6138457109959701, 'recall': 0.6137278582930756, 'f1-score': 0.6137161268051321, 'support': 373.0}, 'weighted avg': {'precision': 0.6138823678308877, 'recall': 0.613941018766756, 'f1-score': 0.6138410667838121, 'support': 373.0}}\n"
     ]
    }
   ],
   "source": [
    "pipeline_log_reg.fit(X_train, y_train)\n",
    "y_pred = pipeline_log_reg.predict(X_test)\n",
    "score = accuracy_score(y_test, y_pred)\n",
    "report_log_reg = classification_report(y_test, y_pred, output_dict = True)\n",
    "print(score)\n",
    "print(report_log_reg)"
   ]
  },
  {
   "cell_type": "code",
   "execution_count": 11,
   "metadata": {},
   "outputs": [],
   "source": [
    "pipeline_svc = Pipeline(steps=[\n",
    "    ('preprocessor', preprocessor),\n",
    "    ('classifier', SVC())\n",
    "])"
   ]
  },
  {
   "cell_type": "code",
   "execution_count": 12,
   "metadata": {},
   "outputs": [
    {
     "name": "stdout",
     "output_type": "stream",
     "text": [
      "0.6300268096514745\n",
      "{'0': {'precision': 0.6385542168674698, 'recall': 0.5760869565217391, 'f1-score': 0.6057142857142858, 'support': 184.0}, '1': {'precision': 0.6231884057971014, 'recall': 0.6825396825396826, 'f1-score': 0.6515151515151515, 'support': 189.0}, 'accuracy': 0.6300268096514745, 'macro avg': {'precision': 0.6308713113322857, 'recall': 0.6293133195307108, 'f1-score': 0.6286147186147186, 'support': 373.0}, 'weighted avg': {'precision': 0.6307683233224307, 'recall': 0.6300268096514745, 'f1-score': 0.6289216949270569, 'support': 373.0}}\n"
     ]
    }
   ],
   "source": [
    "pipeline_svc.fit(X_train, y_train)\n",
    "y_pred = pipeline_svc.predict(X_test)\n",
    "score = accuracy_score(y_test, y_pred)\n",
    "report_svc = classification_report(y_test, y_pred, output_dict = True)\n",
    "print(score)\n",
    "print(report_svc)"
   ]
  },
  {
   "cell_type": "code",
   "execution_count": 13,
   "metadata": {},
   "outputs": [],
   "source": [
    "pipeline_xgb = Pipeline(steps=[\n",
    "    ('preprocessor', preprocessor),\n",
    "    ('classifier', XGBClassifier())\n",
    "])"
   ]
  },
  {
   "cell_type": "code",
   "execution_count": 14,
   "metadata": {},
   "outputs": [
    {
     "name": "stdout",
     "output_type": "stream",
     "text": [
      "0.6005361930294906\n",
      "{'0': {'precision': 0.5956284153005464, 'recall': 0.592391304347826, 'f1-score': 0.5940054495912807, 'support': 184.0}, '1': {'precision': 0.6052631578947368, 'recall': 0.6084656084656085, 'f1-score': 0.6068601583113457, 'support': 189.0}, 'accuracy': 0.6005361930294906, 'macro avg': {'precision': 0.6004457865976416, 'recall': 0.6004284564067173, 'f1-score': 0.6004328039513132, 'support': 373.0}, 'weighted avg': {'precision': 0.6005103626203909, 'recall': 0.6005361930294906, 'f1-score': 0.600518961516461, 'support': 373.0}}\n"
     ]
    }
   ],
   "source": [
    "pipeline_xgb.fit(X_train, y_train)\n",
    "y_pred = pipeline_xgb.predict(X_test)\n",
    "score = accuracy_score(y_test, y_pred)\n",
    "report_xgb = classification_report(y_test, y_pred, output_dict = True)\n",
    "print(score)\n",
    "print(report_xgb)"
   ]
  },
  {
   "cell_type": "code",
   "execution_count": 15,
   "metadata": {},
   "outputs": [],
   "source": [
    "pipeline_rfc = Pipeline(steps=[\n",
    "    ('preprocessor', preprocessor),\n",
    "    ('classifier', RandomForestClassifier())\n",
    "])"
   ]
  },
  {
   "cell_type": "code",
   "execution_count": 16,
   "metadata": {},
   "outputs": [
    {
     "name": "stdout",
     "output_type": "stream",
     "text": [
      "0.6434316353887399\n",
      "{'0': {'precision': 0.6440677966101694, 'recall': 0.6195652173913043, 'f1-score': 0.631578947368421, 'support': 184.0}, '1': {'precision': 0.6428571428571429, 'recall': 0.6666666666666666, 'f1-score': 0.6545454545454545, 'support': 189.0}, 'accuracy': 0.6434316353887399, 'macro avg': {'precision': 0.6434624697336562, 'recall': 0.6431159420289855, 'f1-score': 0.6430622009569378, 'support': 373.0}, 'weighted avg': {'precision': 0.6434543554323625, 'recall': 0.6434316353887399, 'f1-score': 0.6432161319701887, 'support': 373.0}}\n"
     ]
    }
   ],
   "source": [
    "pipeline_rfc.fit(X_train, y_train)\n",
    "y_pred = pipeline_rfc.predict(X_test)\n",
    "score = accuracy_score(y_test, y_pred)\n",
    "report_rfc = classification_report(y_test, y_pred, output_dict = True)\n",
    "print(score)\n",
    "print(report_rfc)"
   ]
  },
  {
   "cell_type": "code",
   "execution_count": 17,
   "metadata": {},
   "outputs": [],
   "source": [
    "est = RandomForestClassifier()\n",
    "pipeline_bagging = Pipeline(steps=[\n",
    "    ('preprocessor', preprocessor),\n",
    "    ('classifier', BaggingClassifier(est))\n",
    "])"
   ]
  },
  {
   "cell_type": "code",
   "execution_count": 18,
   "metadata": {},
   "outputs": [
    {
     "name": "stdout",
     "output_type": "stream",
     "text": [
      "0.6514745308310992\n",
      "{'0': {'precision': 0.6467391304347826, 'recall': 0.6467391304347826, 'f1-score': 0.6467391304347826, 'support': 184.0}, '1': {'precision': 0.656084656084656, 'recall': 0.656084656084656, 'f1-score': 0.656084656084656, 'support': 189.0}, 'accuracy': 0.6514745308310992, 'macro avg': {'precision': 0.6514118932597193, 'recall': 0.6514118932597193, 'f1-score': 0.6514118932597193, 'support': 373.0}, 'weighted avg': {'precision': 0.6514745308310992, 'recall': 0.6514745308310992, 'f1-score': 0.6514745308310992, 'support': 373.0}}\n"
     ]
    }
   ],
   "source": [
    "pipeline_bagging.fit(X_train, y_train)\n",
    "y_pred = pipeline_bagging.predict(X_test)\n",
    "score = accuracy_score(y_test, y_pred)\n",
    "report_bagging = classification_report(y_test, y_pred, output_dict = True)\n",
    "print(score)\n",
    "print(report_bagging)"
   ]
  },
  {
   "cell_type": "code",
   "execution_count": 19,
   "metadata": {},
   "outputs": [],
   "source": [
    "import mlflow"
   ]
  },
  {
   "cell_type": "code",
   "execution_count": 20,
   "metadata": {},
   "outputs": [],
   "source": [
    "log_reg_params = pipeline_log_reg.get_params\n",
    "svc_params = pipeline_svc.get_params\n",
    "xgb_params = pipeline_xgb.get_params\n",
    "rfc_params = pipeline_rfc.get_params\n",
    "bagging_params = pipeline_bagging.get_params"
   ]
  },
  {
   "cell_type": "code",
   "execution_count": 22,
   "metadata": {},
   "outputs": [
    {
     "name": "stderr",
     "output_type": "stream",
     "text": [
      "2025/03/06 22:11:51 WARNING mlflow.models.model: Model logged without a signature and input example. Please set `input_example` parameter when logging the model to auto infer the model signature.\n"
     ]
    },
    {
     "name": "stdout",
     "output_type": "stream",
     "text": [
      "🏃 View run lyrical-chimp-550 at: http://127.0.0.1:5000/#/experiments/924626959793777994/runs/a8a8b7273d6441dc8fd0742c220cb7e1\n",
      "🧪 View experiment at: http://127.0.0.1:5000/#/experiments/924626959793777994\n"
     ]
    }
   ],
   "source": [
    "mlflow.set_experiment(\"Logistic Regression Baseline\")\n",
    "mlflow.set_tracking_uri(\"http://127.0.0.1:5000/\")\n",
    "\n",
    "with mlflow.start_run():\n",
    "    #mlflow.log_params(log_reg_params)\n",
    "    mlflow.log_metrics({\n",
    "        \"accuracy\": report_log_reg[\"accuracy\"],\n",
    "        \"recall_class_1\": report_log_reg[\"1\"][\"recall\"],\n",
    "        \"f1_score\": report_log_reg[\"1\"][\"f1-score\"]\n",
    "    })\n",
    "    mlflow.sklearn.log_model(pipeline_log_reg, \"prep + base log_reg\")"
   ]
  },
  {
   "cell_type": "code",
   "execution_count": 24,
   "metadata": {},
   "outputs": [],
   "source": [
    "est = RandomForestClassifier()\n",
    "pipeline_adaboost = Pipeline(steps=[\n",
    "    ('preprocessor', preprocessor),\n",
    "    ('classifier', AdaBoostClassifier(est))\n",
    "])"
   ]
  },
  {
   "cell_type": "code",
   "execution_count": 25,
   "metadata": {},
   "outputs": [
    {
     "name": "stdout",
     "output_type": "stream",
     "text": [
      "0.6407506702412868\n",
      "{'0': {'precision': 0.6329787234042553, 'recall': 0.6467391304347826, 'f1-score': 0.6397849462365591, 'support': 184.0}, '1': {'precision': 0.6486486486486487, 'recall': 0.6349206349206349, 'f1-score': 0.6417112299465241, 'support': 189.0}, 'accuracy': 0.6407506702412868, 'macro avg': {'precision': 0.640813686026452, 'recall': 0.6408298826777088, 'f1-score': 0.6407480880915416, 'support': 373.0}, 'weighted avg': {'precision': 0.6409187123350606, 'recall': 0.6407506702412868, 'f1-score': 0.6407609988402679, 'support': 373.0}}\n"
     ]
    }
   ],
   "source": [
    "pipeline_adaboost.fit(X_train, y_train)\n",
    "y_pred = pipeline_adaboost.predict(X_test)\n",
    "score = accuracy_score(y_test, y_pred)\n",
    "report_adaboost = classification_report(y_test, y_pred, output_dict = True)\n",
    "print(score)\n",
    "print(report_adaboost)"
   ]
  },
  {
   "cell_type": "code",
   "execution_count": 26,
   "metadata": {},
   "outputs": [
    {
     "name": "stderr",
     "output_type": "stream",
     "text": [
      "2025/03/06 22:17:25 INFO mlflow.tracking.fluent: Experiment with name 'Bagging RFC Baseline' does not exist. Creating a new experiment.\n",
      "2025/03/06 22:17:32 WARNING mlflow.models.model: Model logged without a signature and input example. Please set `input_example` parameter when logging the model to auto infer the model signature.\n"
     ]
    },
    {
     "name": "stdout",
     "output_type": "stream",
     "text": [
      "🏃 View run vaunted-bat-416 at: http://127.0.0.1:5000/#/experiments/448668056508548912/runs/26e840e01d6e43008c565a61c29dc6ed\n",
      "🧪 View experiment at: http://127.0.0.1:5000/#/experiments/448668056508548912\n"
     ]
    }
   ],
   "source": [
    "mlflow.set_experiment(\"Bagging RFC Baseline\")\n",
    "mlflow.set_tracking_uri(\"http://127.0.0.1:5000/\")\n",
    "\n",
    "with mlflow.start_run():\n",
    "    #mlflow.log_params(bagging_params)\n",
    "    mlflow.log_metrics({\n",
    "        \"accuracy\": report_bagging[\"accuracy\"],\n",
    "        \"recall_class_1\": report_bagging[\"1\"][\"recall\"],\n",
    "        \"f1_score\": report_bagging[\"1\"][\"f1-score\"]\n",
    "    })\n",
    "    mlflow.sklearn.log_model(pipeline_bagging, \"prep + base bagging_rfc\")"
   ]
  },
  {
   "cell_type": "markdown",
   "metadata": {},
   "source": [
    "## Bagging Experiments"
   ]
  },
  {
   "cell_type": "code",
   "execution_count": 34,
   "metadata": {},
   "outputs": [],
   "source": [
    "rfc_bagging = RandomForestClassifier(random_state = 19)\n",
    "xgb_bagging = XGBClassifier()\n",
    "svc_bagging = SVC()\n",
    "\n",
    "models_bagging = [rfc_bagging, xgb_bagging, svc_bagging]\n",
    "\n",
    "pipeline_bagging_rfc = Pipeline(steps=[\n",
    "    ('preprocessor', preprocessor),\n",
    "    ('classifier', BaggingClassifier(rfc_bagging, random_state = 19))\n",
    "])\n",
    "\n",
    "pipeline_bagging_xgb = Pipeline(steps=[\n",
    "    ('preprocessor', preprocessor),\n",
    "    ('classifier', BaggingClassifier(xgb_bagging, random_state = 19))\n",
    "])\n",
    "\n",
    "pipeline_bagging_svc = Pipeline(steps=[\n",
    "    ('preprocessor', preprocessor),\n",
    "    ('classifier', BaggingClassifier(svc_bagging, random_state = 19))\n",
    "])\n"
   ]
  },
  {
   "cell_type": "code",
   "execution_count": 30,
   "metadata": {},
   "outputs": [],
   "source": [
    "pipelines_bagging = [pipeline_rfc, pipeline_xgb, pipeline_svc]"
   ]
  },
  {
   "cell_type": "code",
   "execution_count": 31,
   "metadata": {},
   "outputs": [],
   "source": [
    "reports_baging_exp = []\n",
    "\n",
    "for pipeline in pipelines_bagging:\n",
    "    pipeline.fit(X_train, y_train)\n",
    "    y_pred = pipeline.predict(X_test)\n",
    "    report = classification_report(y_test, y_pred, output_dict = True)\n",
    "    reports_baging_exp.append(report)"
   ]
  },
  {
   "cell_type": "code",
   "execution_count": 32,
   "metadata": {},
   "outputs": [
    {
     "data": {
      "text/plain": [
       "[{'0': {'precision': 0.6338797814207651,\n",
       "   'recall': 0.6304347826086957,\n",
       "   'f1-score': 0.6321525885558583,\n",
       "   'support': 184.0},\n",
       "  '1': {'precision': 0.6421052631578947,\n",
       "   'recall': 0.6455026455026455,\n",
       "   'f1-score': 0.6437994722955145,\n",
       "   'support': 189.0},\n",
       "  'accuracy': 0.6380697050938338,\n",
       "  'macro avg': {'precision': 0.6379925222893299,\n",
       "   'recall': 0.6379687140556706,\n",
       "   'f1-score': 0.6379760304256864,\n",
       "   'support': 373.0},\n",
       "  'weighted avg': {'precision': 0.6380476528639756,\n",
       "   'recall': 0.6380697050938338,\n",
       "   'f1-score': 0.6380540926491425,\n",
       "   'support': 373.0}},\n",
       " {'0': {'precision': 0.5956284153005464,\n",
       "   'recall': 0.592391304347826,\n",
       "   'f1-score': 0.5940054495912807,\n",
       "   'support': 184.0},\n",
       "  '1': {'precision': 0.6052631578947368,\n",
       "   'recall': 0.6084656084656085,\n",
       "   'f1-score': 0.6068601583113457,\n",
       "   'support': 189.0},\n",
       "  'accuracy': 0.6005361930294906,\n",
       "  'macro avg': {'precision': 0.6004457865976416,\n",
       "   'recall': 0.6004284564067173,\n",
       "   'f1-score': 0.6004328039513132,\n",
       "   'support': 373.0},\n",
       "  'weighted avg': {'precision': 0.6005103626203909,\n",
       "   'recall': 0.6005361930294906,\n",
       "   'f1-score': 0.600518961516461,\n",
       "   'support': 373.0}},\n",
       " {'0': {'precision': 0.6385542168674698,\n",
       "   'recall': 0.5760869565217391,\n",
       "   'f1-score': 0.6057142857142858,\n",
       "   'support': 184.0},\n",
       "  '1': {'precision': 0.6231884057971014,\n",
       "   'recall': 0.6825396825396826,\n",
       "   'f1-score': 0.6515151515151515,\n",
       "   'support': 189.0},\n",
       "  'accuracy': 0.6300268096514745,\n",
       "  'macro avg': {'precision': 0.6308713113322857,\n",
       "   'recall': 0.6293133195307108,\n",
       "   'f1-score': 0.6286147186147186,\n",
       "   'support': 373.0},\n",
       "  'weighted avg': {'precision': 0.6307683233224307,\n",
       "   'recall': 0.6300268096514745,\n",
       "   'f1-score': 0.6289216949270569,\n",
       "   'support': 373.0}}]"
      ]
     },
     "execution_count": 32,
     "metadata": {},
     "output_type": "execute_result"
    }
   ],
   "source": [
    "reports_baging_exp"
   ]
  },
  {
   "cell_type": "code",
   "execution_count": 41,
   "metadata": {},
   "outputs": [
    {
     "name": "stderr",
     "output_type": "stream",
     "text": [
      "2025/03/06 22:45:12 WARNING mlflow.models.model: Model logged without a signature and input example. Please set `input_example` parameter when logging the model to auto infer the model signature.\n"
     ]
    },
    {
     "name": "stdout",
     "output_type": "stream",
     "text": [
      "🏃 View run pipeline_bagging_SVC() at: http://127.0.0.1:5000/#/experiments/592260611624601794/runs/854071d9f9cc4f6fb0c0545184785a65\n",
      "🧪 View experiment at: http://127.0.0.1:5000/#/experiments/592260611624601794\n"
     ]
    }
   ],
   "source": [
    "mlflow.set_experiment(\"Bagging Experiment 1\")\n",
    "mlflow.set_tracking_uri(\"http://127.0.0.1:5000/\")\n",
    "\n",
    "for i, element in enumerate(pipelines_bagging):\n",
    "    pipeline_name = element[0]\n",
    "    pipeline = element[1]\n",
    "    report = reports_baging_exp[i]\n",
    "    model = models_bagging[i]\n",
    "\n",
    "with mlflow.start_run(run_name = f\"pipeline_bagging_{model}\"):\n",
    "    mlflow.log_params({\n",
    "        \"pipeline_name\": pipeline_name,\n",
    "        \"estimator\": model\n",
    "    })\n",
    "    mlflow.log_metrics({\n",
    "        \"accuracy\": report[\"accuracy\"],\n",
    "        \"recall_class_1\": report[\"1\"][\"recall\"],\n",
    "        \"f1_score\": report[\"1\"][\"f1-score\"]\n",
    "    })\n",
    "    mlflow.sklearn.log_model(pipeline, \"pipeline\")"
   ]
  },
  {
   "cell_type": "code",
   "execution_count": null,
   "metadata": {},
   "outputs": [],
   "source": []
  }
 ],
 "metadata": {
  "kernelspec": {
   "display_name": "venv",
   "language": "python",
   "name": "python3"
  },
  "language_info": {
   "codemirror_mode": {
    "name": "ipython",
    "version": 3
   },
   "file_extension": ".py",
   "mimetype": "text/x-python",
   "name": "python",
   "nbconvert_exporter": "python",
   "pygments_lexer": "ipython3",
   "version": "3.11.7"
  }
 },
 "nbformat": 4,
 "nbformat_minor": 2
}
