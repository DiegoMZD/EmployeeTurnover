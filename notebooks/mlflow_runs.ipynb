{
 "cells": [
  {
   "cell_type": "code",
   "execution_count": 1,
   "metadata": {},
   "outputs": [],
   "source": [
    "import mlflow"
   ]
  },
  {
   "cell_type": "code",
   "execution_count": null,
   "metadata": {},
   "outputs": [],
   "source": [
    "mlflow.set_experiment(\"Logistic Regression Baseline\")\n",
    "mlflow.set_tracking_uri(\"http://127.0.0.1:5000/\")\n",
    "\n",
    "with mlflow.start_run():\n",
    "    #mlflow.log_params(log_reg_params)\n",
    "    mlflow.log_metrics({\n",
    "        \"accuracy\": report_log_reg[\"accuracy\"],\n",
    "        \"recall_class_1\": report_log_reg[\"1\"][\"recall\"],\n",
    "        \"f1_score\": report_log_reg[\"1\"][\"f1-score\"]\n",
    "    })\n",
    "    mlflow.sklearn.log_model(pipeline_log_reg, \"prep + base log_reg\")"
   ]
  },
  {
   "cell_type": "code",
   "execution_count": null,
   "metadata": {},
   "outputs": [],
   "source": [
    "mlflow.set_experiment(\"Bagging Experiment 1\")\n",
    "mlflow.set_tracking_uri(\"http://127.0.0.1:5000/\")\n",
    "\n",
    "for i, element in enumerate(pipelines_bagging):\n",
    "    pipeline_name = element[0]\n",
    "    pipeline = element[1]\n",
    "    report = reports_baging_exp[i]\n",
    "    model = models_bagging[i]\n",
    "\n",
    "with mlflow.start_run(run_name = f\"pipeline_bagging_{model}\"):\n",
    "    mlflow.log_params({\n",
    "        \"pipeline_name\": pipeline_name,\n",
    "        \"estimator\": model\n",
    "    })\n",
    "    mlflow.log_metrics({\n",
    "        \"accuracy\": report[\"accuracy\"],\n",
    "        \"recall_class_1\": report[\"1\"][\"recall\"],\n",
    "        \"f1_score\": report[\"1\"][\"f1-score\"]\n",
    "    })\n",
    "    mlflow.sklearn.log_model(pipeline, \"pipeline\")"
   ]
  }
 ],
 "metadata": {
  "kernelspec": {
   "display_name": "venv",
   "language": "python",
   "name": "python3"
  },
  "language_info": {
   "codemirror_mode": {
    "name": "ipython",
    "version": 3
   },
   "file_extension": ".py",
   "mimetype": "text/x-python",
   "name": "python",
   "nbconvert_exporter": "python",
   "pygments_lexer": "ipython3",
   "version": "3.11.7"
  }
 },
 "nbformat": 4,
 "nbformat_minor": 2
}
